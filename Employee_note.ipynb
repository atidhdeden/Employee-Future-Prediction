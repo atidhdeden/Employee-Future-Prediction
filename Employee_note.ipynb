{
 "cells": [
  {
   "cell_type": "markdown",
   "metadata": {},
   "source": [
    "# i. Perkenalan\n",
    "\n",
    "==================================================================================\n",
    "\n",
    "Nama        : Nurdin Atid H\n",
    "\n",
    "Datasets    : [Employee Future Prediction]('https://www.kaggle.com/datasets/tejashvi14/employee-future-prediction')\n",
    "\n",
    "==================================================================================="
   ]
  },
  {
   "cell_type": "markdown",
   "metadata": {},
   "source": [
    "#### Pernyataan Masalah :\n",
    "Perkembangan suatu perusahaan tidak terlepas dari peran seluruh pegawai maka dari itu menjaga karyawan untuk tetap bekerja di perusaahaan menjadi prioritas namun pada kenyataannya tidak sedikit karyawan yang memutuskan untuk berhenti bekerja sehingga dibutuhkan langkah untuk memprediksi karyawan mana yang cenderung untuk berhenti bekerja, difokuskan pada prediksi karyawan yang akan berhenti untuk menghindari ketika karyawan di prediksi tetap bekerja tetapi ternyata malah berhenti dari pekerjaan, untuk kemudian di lakukan langkah pencegahan atau mempersiapkan karyawan baru untuk mengisi posisi karyawan yang akan berhenti.\n",
    "\n",
    "#### Tujuan : \n",
    "Tujuan utama adalah mengembangkan model prediksi yang akurat untuk mengidentifikasi apakah karyawan akan memutuskan berhenti atau tidak.\n",
    "\n",
    "#### Penjabaran Masalah : \n",
    "- Perlu diidentifikasi variabel-variabel yang dapat mempengaruhi karyawan dalam memutuskan berhenti atau tidak.\n",
    "- Perusahaan perlu mengembangkan model prediksi yang dapat mengestimasi karyawan yang akan memutuskan untuk berhenti atau tetap bekerja di perusahaan sehingga dapat dilakukan pencegahan atau mempersiapkan karyawan pengganti.\n",
    "- Mengidentifikasi model klasifikasi terbaik di antara  termasuk Logistic Regression, Support Vector Machine, Decision Tree, Random Forest, K-Nearest Neighbors, Gaussian Naive Bayes, dan AdaBoost, untuk memprediksi karyawan yang memutuskan keluar atau tetap bekerja di prusahaan..\n",
    "\n",
    "#### Solusi yang Dilakukan :\n",
    "Untuk menyelesaikan penjabaran masalah ini, kami akan menggunakan : \n",
    "- Model terbaik dengan membandingkan  Logistic Regression, Support Vector Machine, Decision Tree, Random Forest, K-Nearest Neighbors, Gaussian Naive Bayes, dan AdaBoost.\n",
    "- Metrics evaluasi yang digunakan dalam konteks adalah recall"
   ]
  },
  {
   "cell_type": "markdown",
   "metadata": {},
   "source": [
    "# ii. Import Libraries"
   ]
  },
  {
   "cell_type": "code",
   "execution_count": 1,
   "metadata": {},
   "outputs": [],
   "source": [
    "# import Library\n",
    "import pandas as pd\n",
    "import numpy as np\n",
    "import matplotlib.pyplot as plt\n",
    "import seaborn as sns\n",
    "import phik\n",
    "import pickle\n",
    "from sklearn.preprocessing import MinMaxScaler \n",
    "import matplotlib.pyplot as plt\n",
    "\n",
    "# import FE\n",
    "from sklearn.model_selection import train_test_split\n",
    "from sklearn.preprocessing import StandardScaler\n",
    "from sklearn.pipeline import Pipeline\n",
    "\n",
    "# import model\n",
    "from sklearn.svm import SVC\n",
    "from sklearn.linear_model import LogisticRegression\n",
    "from sklearn.tree import DecisionTreeClassifier\n",
    "from sklearn.ensemble import RandomForestClassifier\n",
    "from sklearn.neighbors import KNeighborsClassifier\n",
    "from sklearn.naive_bayes import GaussianNB\n",
    "from sklearn.ensemble import AdaBoostClassifier\n",
    "from sklearn.model_selection import StratifiedKFold\n",
    "from sklearn.model_selection import cross_val_score\n",
    "from sklearn.preprocessing import OneHotEncoder\n",
    "from sklearn.model_selection import GridSearchCV\n",
    "\n",
    "# Check Performance Model against Train-Set\n",
    "from sklearn.metrics import recall_score\n",
    "from sklearn.metrics import classification_report\n",
    "from sklearn.metrics import ConfusionMatrixDisplay\n",
    "from sklearn.metrics import precision_score, recall_score, accuracy_score, f1_score\n",
    "\n",
    "# Mengimpor Model Evaluation\n",
    "from sklearn.metrics import confusion_matrix\n",
    "\n",
    "# Ignore all warnings\n",
    "import warnings\n",
    "warnings.filterwarnings(\"ignore\")\n",
    "\n",
    "# column transformernya\n",
    "from sklearn.compose import ColumnTransformer\n",
    "\n"
   ]
  },
  {
   "cell_type": "markdown",
   "metadata": {},
   "source": [
    "# iii. Data Loading\n",
    "\n"
   ]
  },
  {
   "cell_type": "markdown",
   "metadata": {},
   "source": [
    "Pada bagian ini kita akan menampilkan data dari csv lalu mengcopy data tersebut agar data asli tidak berubah."
   ]
  },
  {
   "cell_type": "code",
   "execution_count": 2,
   "metadata": {},
   "outputs": [],
   "source": [
    "# Load dataset\n",
    "#import data yang sudah di download dari kaggle|com\n",
    "df = pd.read_csv('Employee.csv')\n",
    "\n",
    "# Duplicate data ori\n",
    "df_1 = df.copy()\n"
   ]
  },
  {
   "cell_type": "markdown",
   "metadata": {},
   "source": [
    "Menampilkan 10 data paling atas"
   ]
  },
  {
   "cell_type": "code",
   "execution_count": 3,
   "metadata": {},
   "outputs": [
    {
     "data": {
      "text/html": [
       "<div>\n",
       "<style scoped>\n",
       "    .dataframe tbody tr th:only-of-type {\n",
       "        vertical-align: middle;\n",
       "    }\n",
       "\n",
       "    .dataframe tbody tr th {\n",
       "        vertical-align: top;\n",
       "    }\n",
       "\n",
       "    .dataframe thead th {\n",
       "        text-align: right;\n",
       "    }\n",
       "</style>\n",
       "<table border=\"1\" class=\"dataframe\">\n",
       "  <thead>\n",
       "    <tr style=\"text-align: right;\">\n",
       "      <th></th>\n",
       "      <th>Education</th>\n",
       "      <th>JoiningYear</th>\n",
       "      <th>City</th>\n",
       "      <th>PaymentTier</th>\n",
       "      <th>Age</th>\n",
       "      <th>Gender</th>\n",
       "      <th>EverBenched</th>\n",
       "      <th>ExperienceInCurrentDomain</th>\n",
       "      <th>LeaveOrNot</th>\n",
       "    </tr>\n",
       "  </thead>\n",
       "  <tbody>\n",
       "    <tr>\n",
       "      <th>0</th>\n",
       "      <td>Bachelors</td>\n",
       "      <td>2017</td>\n",
       "      <td>Bangalore</td>\n",
       "      <td>3</td>\n",
       "      <td>34</td>\n",
       "      <td>Male</td>\n",
       "      <td>No</td>\n",
       "      <td>0</td>\n",
       "      <td>0</td>\n",
       "    </tr>\n",
       "    <tr>\n",
       "      <th>1</th>\n",
       "      <td>Bachelors</td>\n",
       "      <td>2013</td>\n",
       "      <td>Pune</td>\n",
       "      <td>1</td>\n",
       "      <td>28</td>\n",
       "      <td>Female</td>\n",
       "      <td>No</td>\n",
       "      <td>3</td>\n",
       "      <td>1</td>\n",
       "    </tr>\n",
       "    <tr>\n",
       "      <th>2</th>\n",
       "      <td>Bachelors</td>\n",
       "      <td>2014</td>\n",
       "      <td>New Delhi</td>\n",
       "      <td>3</td>\n",
       "      <td>38</td>\n",
       "      <td>Female</td>\n",
       "      <td>No</td>\n",
       "      <td>2</td>\n",
       "      <td>0</td>\n",
       "    </tr>\n",
       "    <tr>\n",
       "      <th>3</th>\n",
       "      <td>Masters</td>\n",
       "      <td>2016</td>\n",
       "      <td>Bangalore</td>\n",
       "      <td>3</td>\n",
       "      <td>27</td>\n",
       "      <td>Male</td>\n",
       "      <td>No</td>\n",
       "      <td>5</td>\n",
       "      <td>1</td>\n",
       "    </tr>\n",
       "    <tr>\n",
       "      <th>4</th>\n",
       "      <td>Masters</td>\n",
       "      <td>2017</td>\n",
       "      <td>Pune</td>\n",
       "      <td>3</td>\n",
       "      <td>24</td>\n",
       "      <td>Male</td>\n",
       "      <td>Yes</td>\n",
       "      <td>2</td>\n",
       "      <td>1</td>\n",
       "    </tr>\n",
       "    <tr>\n",
       "      <th>5</th>\n",
       "      <td>Bachelors</td>\n",
       "      <td>2016</td>\n",
       "      <td>Bangalore</td>\n",
       "      <td>3</td>\n",
       "      <td>22</td>\n",
       "      <td>Male</td>\n",
       "      <td>No</td>\n",
       "      <td>0</td>\n",
       "      <td>0</td>\n",
       "    </tr>\n",
       "    <tr>\n",
       "      <th>6</th>\n",
       "      <td>Bachelors</td>\n",
       "      <td>2015</td>\n",
       "      <td>New Delhi</td>\n",
       "      <td>3</td>\n",
       "      <td>38</td>\n",
       "      <td>Male</td>\n",
       "      <td>No</td>\n",
       "      <td>0</td>\n",
       "      <td>0</td>\n",
       "    </tr>\n",
       "    <tr>\n",
       "      <th>7</th>\n",
       "      <td>Bachelors</td>\n",
       "      <td>2016</td>\n",
       "      <td>Bangalore</td>\n",
       "      <td>3</td>\n",
       "      <td>34</td>\n",
       "      <td>Female</td>\n",
       "      <td>No</td>\n",
       "      <td>2</td>\n",
       "      <td>1</td>\n",
       "    </tr>\n",
       "    <tr>\n",
       "      <th>8</th>\n",
       "      <td>Bachelors</td>\n",
       "      <td>2016</td>\n",
       "      <td>Pune</td>\n",
       "      <td>3</td>\n",
       "      <td>23</td>\n",
       "      <td>Male</td>\n",
       "      <td>No</td>\n",
       "      <td>1</td>\n",
       "      <td>0</td>\n",
       "    </tr>\n",
       "    <tr>\n",
       "      <th>9</th>\n",
       "      <td>Masters</td>\n",
       "      <td>2017</td>\n",
       "      <td>New Delhi</td>\n",
       "      <td>2</td>\n",
       "      <td>37</td>\n",
       "      <td>Male</td>\n",
       "      <td>No</td>\n",
       "      <td>2</td>\n",
       "      <td>0</td>\n",
       "    </tr>\n",
       "  </tbody>\n",
       "</table>\n",
       "</div>"
      ],
      "text/plain": [
       "   Education  JoiningYear       City  PaymentTier  Age  Gender EverBenched  \\\n",
       "0  Bachelors         2017  Bangalore            3   34    Male          No   \n",
       "1  Bachelors         2013       Pune            1   28  Female          No   \n",
       "2  Bachelors         2014  New Delhi            3   38  Female          No   \n",
       "3    Masters         2016  Bangalore            3   27    Male          No   \n",
       "4    Masters         2017       Pune            3   24    Male         Yes   \n",
       "5  Bachelors         2016  Bangalore            3   22    Male          No   \n",
       "6  Bachelors         2015  New Delhi            3   38    Male          No   \n",
       "7  Bachelors         2016  Bangalore            3   34  Female          No   \n",
       "8  Bachelors         2016       Pune            3   23    Male          No   \n",
       "9    Masters         2017  New Delhi            2   37    Male          No   \n",
       "\n",
       "   ExperienceInCurrentDomain  LeaveOrNot  \n",
       "0                          0           0  \n",
       "1                          3           1  \n",
       "2                          2           0  \n",
       "3                          5           1  \n",
       "4                          2           1  \n",
       "5                          0           0  \n",
       "6                          0           0  \n",
       "7                          2           1  \n",
       "8                          1           0  \n",
       "9                          2           0  "
      ]
     },
     "execution_count": 3,
     "metadata": {},
     "output_type": "execute_result"
    }
   ],
   "source": [
    "# tampilkan sepuluh data paling atas\n",
    "df_1.head(10)"
   ]
  },
  {
   "cell_type": "markdown",
   "metadata": {},
   "source": [
    "Menampilkan 10 data paling bawah"
   ]
  },
  {
   "cell_type": "code",
   "execution_count": 4,
   "metadata": {},
   "outputs": [
    {
     "data": {
      "text/html": [
       "<div>\n",
       "<style scoped>\n",
       "    .dataframe tbody tr th:only-of-type {\n",
       "        vertical-align: middle;\n",
       "    }\n",
       "\n",
       "    .dataframe tbody tr th {\n",
       "        vertical-align: top;\n",
       "    }\n",
       "\n",
       "    .dataframe thead th {\n",
       "        text-align: right;\n",
       "    }\n",
       "</style>\n",
       "<table border=\"1\" class=\"dataframe\">\n",
       "  <thead>\n",
       "    <tr style=\"text-align: right;\">\n",
       "      <th></th>\n",
       "      <th>Education</th>\n",
       "      <th>JoiningYear</th>\n",
       "      <th>City</th>\n",
       "      <th>PaymentTier</th>\n",
       "      <th>Age</th>\n",
       "      <th>Gender</th>\n",
       "      <th>EverBenched</th>\n",
       "      <th>ExperienceInCurrentDomain</th>\n",
       "      <th>LeaveOrNot</th>\n",
       "    </tr>\n",
       "  </thead>\n",
       "  <tbody>\n",
       "    <tr>\n",
       "      <th>4643</th>\n",
       "      <td>Bachelors</td>\n",
       "      <td>2013</td>\n",
       "      <td>Bangalore</td>\n",
       "      <td>3</td>\n",
       "      <td>31</td>\n",
       "      <td>Female</td>\n",
       "      <td>No</td>\n",
       "      <td>5</td>\n",
       "      <td>0</td>\n",
       "    </tr>\n",
       "    <tr>\n",
       "      <th>4644</th>\n",
       "      <td>Bachelors</td>\n",
       "      <td>2015</td>\n",
       "      <td>Pune</td>\n",
       "      <td>3</td>\n",
       "      <td>32</td>\n",
       "      <td>Female</td>\n",
       "      <td>Yes</td>\n",
       "      <td>1</td>\n",
       "      <td>1</td>\n",
       "    </tr>\n",
       "    <tr>\n",
       "      <th>4645</th>\n",
       "      <td>Masters</td>\n",
       "      <td>2017</td>\n",
       "      <td>Pune</td>\n",
       "      <td>2</td>\n",
       "      <td>31</td>\n",
       "      <td>Female</td>\n",
       "      <td>No</td>\n",
       "      <td>2</td>\n",
       "      <td>0</td>\n",
       "    </tr>\n",
       "    <tr>\n",
       "      <th>4646</th>\n",
       "      <td>Bachelors</td>\n",
       "      <td>2013</td>\n",
       "      <td>Bangalore</td>\n",
       "      <td>3</td>\n",
       "      <td>25</td>\n",
       "      <td>Female</td>\n",
       "      <td>No</td>\n",
       "      <td>3</td>\n",
       "      <td>0</td>\n",
       "    </tr>\n",
       "    <tr>\n",
       "      <th>4647</th>\n",
       "      <td>Bachelors</td>\n",
       "      <td>2016</td>\n",
       "      <td>Pune</td>\n",
       "      <td>3</td>\n",
       "      <td>30</td>\n",
       "      <td>Male</td>\n",
       "      <td>No</td>\n",
       "      <td>2</td>\n",
       "      <td>0</td>\n",
       "    </tr>\n",
       "    <tr>\n",
       "      <th>4648</th>\n",
       "      <td>Bachelors</td>\n",
       "      <td>2013</td>\n",
       "      <td>Bangalore</td>\n",
       "      <td>3</td>\n",
       "      <td>26</td>\n",
       "      <td>Female</td>\n",
       "      <td>No</td>\n",
       "      <td>4</td>\n",
       "      <td>0</td>\n",
       "    </tr>\n",
       "    <tr>\n",
       "      <th>4649</th>\n",
       "      <td>Masters</td>\n",
       "      <td>2013</td>\n",
       "      <td>Pune</td>\n",
       "      <td>2</td>\n",
       "      <td>37</td>\n",
       "      <td>Male</td>\n",
       "      <td>No</td>\n",
       "      <td>2</td>\n",
       "      <td>1</td>\n",
       "    </tr>\n",
       "    <tr>\n",
       "      <th>4650</th>\n",
       "      <td>Masters</td>\n",
       "      <td>2018</td>\n",
       "      <td>New Delhi</td>\n",
       "      <td>3</td>\n",
       "      <td>27</td>\n",
       "      <td>Male</td>\n",
       "      <td>No</td>\n",
       "      <td>5</td>\n",
       "      <td>1</td>\n",
       "    </tr>\n",
       "    <tr>\n",
       "      <th>4651</th>\n",
       "      <td>Bachelors</td>\n",
       "      <td>2012</td>\n",
       "      <td>Bangalore</td>\n",
       "      <td>3</td>\n",
       "      <td>30</td>\n",
       "      <td>Male</td>\n",
       "      <td>Yes</td>\n",
       "      <td>2</td>\n",
       "      <td>0</td>\n",
       "    </tr>\n",
       "    <tr>\n",
       "      <th>4652</th>\n",
       "      <td>Bachelors</td>\n",
       "      <td>2015</td>\n",
       "      <td>Bangalore</td>\n",
       "      <td>3</td>\n",
       "      <td>33</td>\n",
       "      <td>Male</td>\n",
       "      <td>Yes</td>\n",
       "      <td>4</td>\n",
       "      <td>0</td>\n",
       "    </tr>\n",
       "  </tbody>\n",
       "</table>\n",
       "</div>"
      ],
      "text/plain": [
       "      Education  JoiningYear       City  PaymentTier  Age  Gender EverBenched  \\\n",
       "4643  Bachelors         2013  Bangalore            3   31  Female          No   \n",
       "4644  Bachelors         2015       Pune            3   32  Female         Yes   \n",
       "4645    Masters         2017       Pune            2   31  Female          No   \n",
       "4646  Bachelors         2013  Bangalore            3   25  Female          No   \n",
       "4647  Bachelors         2016       Pune            3   30    Male          No   \n",
       "4648  Bachelors         2013  Bangalore            3   26  Female          No   \n",
       "4649    Masters         2013       Pune            2   37    Male          No   \n",
       "4650    Masters         2018  New Delhi            3   27    Male          No   \n",
       "4651  Bachelors         2012  Bangalore            3   30    Male         Yes   \n",
       "4652  Bachelors         2015  Bangalore            3   33    Male         Yes   \n",
       "\n",
       "      ExperienceInCurrentDomain  LeaveOrNot  \n",
       "4643                          5           0  \n",
       "4644                          1           1  \n",
       "4645                          2           0  \n",
       "4646                          3           0  \n",
       "4647                          2           0  \n",
       "4648                          4           0  \n",
       "4649                          2           1  \n",
       "4650                          5           1  \n",
       "4651                          2           0  \n",
       "4652                          4           0  "
      ]
     },
     "execution_count": 4,
     "metadata": {},
     "output_type": "execute_result"
    }
   ],
   "source": [
    "# tampilkan sepuluh data paling bawah\n",
    "df.tail(10)"
   ]
  },
  {
   "cell_type": "code",
   "execution_count": 5,
   "metadata": {},
   "outputs": [
    {
     "name": "stdout",
     "output_type": "stream",
     "text": [
      "<class 'pandas.core.frame.DataFrame'>\n",
      "RangeIndex: 4653 entries, 0 to 4652\n",
      "Data columns (total 9 columns):\n",
      " #   Column                     Non-Null Count  Dtype \n",
      "---  ------                     --------------  ----- \n",
      " 0   Education                  4653 non-null   object\n",
      " 1   JoiningYear                4653 non-null   int64 \n",
      " 2   City                       4653 non-null   object\n",
      " 3   PaymentTier                4653 non-null   int64 \n",
      " 4   Age                        4653 non-null   int64 \n",
      " 5   Gender                     4653 non-null   object\n",
      " 6   EverBenched                4653 non-null   object\n",
      " 7   ExperienceInCurrentDomain  4653 non-null   int64 \n",
      " 8   LeaveOrNot                 4653 non-null   int64 \n",
      "dtypes: int64(5), object(4)\n",
      "memory usage: 327.3+ KB\n"
     ]
    }
   ],
   "source": [
    "# tampilkan data info\n",
    "df_1.info()"
   ]
  },
  {
   "cell_type": "markdown",
   "metadata": {},
   "source": [
    "- Data terdiri dari 9 kolom.\n",
    "- Bertipe Integer(5) 10 kolom , Object 4 kolom.\n",
    "- Memiliki 4.653 baris\n",
    "\n",
    "Dengan rincian kolom sebagai berikut : \n",
    "\n",
    "column |\tdescription |\n",
    "---------|--------------|\n",
    "Education|\tEDUCATION LEVEL  |\n",
    "JoiningYear\t| YEAR OF JOINING COMPANY |\n",
    "City\t| CITY OFFICE WHERE POSTED |\n",
    "PaymentTier\t| PAYMENT TIER: 1: HIGHEST 2: MID LEVEL 3:LOWEST |\n",
    "Age|\tCURRENT AGE |\n",
    "Gender\t| GENDER OF EMPLOYEE |\n",
    "EverBenched \t| EVER KEPT OUT OF PROJECTS FOR 1 MONTH OR MORE |\n",
    "ExperienceInCurrentDomain  \t | EXPERIENCE IN CURRENT FIELD |\n",
    "LeaveOrNot                 \t| WHETHER EMPLOYEE LEAVES THE COMPANY IN NEXT 2 YEARS (Leave = 1, not = 0)\n",
    "\n"
   ]
  },
  {
   "cell_type": "markdown",
   "metadata": {},
   "source": [
    "### Cek data duplikat"
   ]
  },
  {
   "cell_type": "code",
   "execution_count": 6,
   "metadata": {},
   "outputs": [
    {
     "data": {
      "text/plain": [
       "1889"
      ]
     },
     "execution_count": 6,
     "metadata": {},
     "output_type": "execute_result"
    }
   ],
   "source": [
    "# Tampilkan duplikat data\n",
    "df_1.duplicated().sum()"
   ]
  },
  {
   "cell_type": "markdown",
   "metadata": {},
   "source": [
    "Terdapat data duplikat sebanyak 1.889 data."
   ]
  },
  {
   "cell_type": "markdown",
   "metadata": {},
   "source": [
    "Dengan mempertimbangkan banyak data yang kita miliki 4,653 dan jumlah duplikat sebanyak 1.889 untuk itu diputuskan untuk melakukan drop pada data duplicate"
   ]
  },
  {
   "cell_type": "code",
   "execution_count": 7,
   "metadata": {},
   "outputs": [],
   "source": [
    "# drop duplikat data\n",
    "df_1 = df_1.drop_duplicates()"
   ]
  },
  {
   "cell_type": "markdown",
   "metadata": {},
   "source": [
    "Tampilkan apakah masih ada duplikat atau tidak"
   ]
  },
  {
   "cell_type": "code",
   "execution_count": 8,
   "metadata": {},
   "outputs": [
    {
     "data": {
      "text/plain": [
       "0"
      ]
     },
     "execution_count": 8,
     "metadata": {},
     "output_type": "execute_result"
    }
   ],
   "source": [
    "# Tampilkan duplikat data\n",
    "df_1.duplicated().sum()"
   ]
  },
  {
   "cell_type": "markdown",
   "metadata": {},
   "source": [
    "Sudah tidak ada data duplikat"
   ]
  },
  {
   "cell_type": "code",
   "execution_count": 9,
   "metadata": {},
   "outputs": [
    {
     "name": "stdout",
     "output_type": "stream",
     "text": [
      "<class 'pandas.core.frame.DataFrame'>\n",
      "Index: 2764 entries, 0 to 4651\n",
      "Data columns (total 9 columns):\n",
      " #   Column                     Non-Null Count  Dtype \n",
      "---  ------                     --------------  ----- \n",
      " 0   Education                  2764 non-null   object\n",
      " 1   JoiningYear                2764 non-null   int64 \n",
      " 2   City                       2764 non-null   object\n",
      " 3   PaymentTier                2764 non-null   int64 \n",
      " 4   Age                        2764 non-null   int64 \n",
      " 5   Gender                     2764 non-null   object\n",
      " 6   EverBenched                2764 non-null   object\n",
      " 7   ExperienceInCurrentDomain  2764 non-null   int64 \n",
      " 8   LeaveOrNot                 2764 non-null   int64 \n",
      "dtypes: int64(5), object(4)\n",
      "memory usage: 215.9+ KB\n"
     ]
    }
   ],
   "source": [
    "df_1.info()"
   ]
  },
  {
   "cell_type": "markdown",
   "metadata": {},
   "source": [
    "Setelah dilakukan drop pada data duplikat maka data yang kita gunakan adalah\n",
    "- Data terdiri dari 9 kolom.\n",
    "- Bertipe Integer(5) 10 kolom , Object 4 kolom.\n",
    "- Memiliki 2.764 baris\n"
   ]
  },
  {
   "cell_type": "markdown",
   "metadata": {},
   "source": [
    "kita simpan data yang bersih untuk kemudian di gunakan dalam presentasi :"
   ]
  },
  {
   "cell_type": "code",
   "execution_count": 10,
   "metadata": {},
   "outputs": [],
   "source": [
    "#simpan data dalam bentuk csv\n",
    "df_1.to_csv('employee_clear.csv', index=False)"
   ]
  },
  {
   "cell_type": "code",
   "execution_count": 11,
   "metadata": {},
   "outputs": [
    {
     "data": {
      "text/html": [
       "<div>\n",
       "<style scoped>\n",
       "    .dataframe tbody tr th:only-of-type {\n",
       "        vertical-align: middle;\n",
       "    }\n",
       "\n",
       "    .dataframe tbody tr th {\n",
       "        vertical-align: top;\n",
       "    }\n",
       "\n",
       "    .dataframe thead th {\n",
       "        text-align: right;\n",
       "    }\n",
       "</style>\n",
       "<table border=\"1\" class=\"dataframe\">\n",
       "  <thead>\n",
       "    <tr style=\"text-align: right;\">\n",
       "      <th></th>\n",
       "      <th>JoiningYear</th>\n",
       "      <th>PaymentTier</th>\n",
       "      <th>Age</th>\n",
       "      <th>ExperienceInCurrentDomain</th>\n",
       "      <th>LeaveOrNot</th>\n",
       "    </tr>\n",
       "  </thead>\n",
       "  <tbody>\n",
       "    <tr>\n",
       "      <th>count</th>\n",
       "      <td>2764.000000</td>\n",
       "      <td>2764.000000</td>\n",
       "      <td>2764.000000</td>\n",
       "      <td>2764.000000</td>\n",
       "      <td>2764.000000</td>\n",
       "    </tr>\n",
       "    <tr>\n",
       "      <th>mean</th>\n",
       "      <td>2015.090449</td>\n",
       "      <td>2.636035</td>\n",
       "      <td>30.952967</td>\n",
       "      <td>2.644356</td>\n",
       "      <td>0.393632</td>\n",
       "    </tr>\n",
       "    <tr>\n",
       "      <th>std</th>\n",
       "      <td>1.885943</td>\n",
       "      <td>0.624001</td>\n",
       "      <td>5.108872</td>\n",
       "      <td>1.610610</td>\n",
       "      <td>0.488643</td>\n",
       "    </tr>\n",
       "    <tr>\n",
       "      <th>min</th>\n",
       "      <td>2012.000000</td>\n",
       "      <td>1.000000</td>\n",
       "      <td>22.000000</td>\n",
       "      <td>0.000000</td>\n",
       "      <td>0.000000</td>\n",
       "    </tr>\n",
       "    <tr>\n",
       "      <th>25%</th>\n",
       "      <td>2013.000000</td>\n",
       "      <td>2.000000</td>\n",
       "      <td>27.000000</td>\n",
       "      <td>1.000000</td>\n",
       "      <td>0.000000</td>\n",
       "    </tr>\n",
       "    <tr>\n",
       "      <th>50%</th>\n",
       "      <td>2015.000000</td>\n",
       "      <td>3.000000</td>\n",
       "      <td>30.000000</td>\n",
       "      <td>2.000000</td>\n",
       "      <td>0.000000</td>\n",
       "    </tr>\n",
       "    <tr>\n",
       "      <th>75%</th>\n",
       "      <td>2017.000000</td>\n",
       "      <td>3.000000</td>\n",
       "      <td>35.000000</td>\n",
       "      <td>4.000000</td>\n",
       "      <td>1.000000</td>\n",
       "    </tr>\n",
       "    <tr>\n",
       "      <th>max</th>\n",
       "      <td>2018.000000</td>\n",
       "      <td>3.000000</td>\n",
       "      <td>41.000000</td>\n",
       "      <td>7.000000</td>\n",
       "      <td>1.000000</td>\n",
       "    </tr>\n",
       "  </tbody>\n",
       "</table>\n",
       "</div>"
      ],
      "text/plain": [
       "       JoiningYear  PaymentTier          Age  ExperienceInCurrentDomain  \\\n",
       "count  2764.000000  2764.000000  2764.000000                2764.000000   \n",
       "mean   2015.090449     2.636035    30.952967                   2.644356   \n",
       "std       1.885943     0.624001     5.108872                   1.610610   \n",
       "min    2012.000000     1.000000    22.000000                   0.000000   \n",
       "25%    2013.000000     2.000000    27.000000                   1.000000   \n",
       "50%    2015.000000     3.000000    30.000000                   2.000000   \n",
       "75%    2017.000000     3.000000    35.000000                   4.000000   \n",
       "max    2018.000000     3.000000    41.000000                   7.000000   \n",
       "\n",
       "        LeaveOrNot  \n",
       "count  2764.000000  \n",
       "mean      0.393632  \n",
       "std       0.488643  \n",
       "min       0.000000  \n",
       "25%       0.000000  \n",
       "50%       0.000000  \n",
       "75%       1.000000  \n",
       "max       1.000000  "
      ]
     },
     "execution_count": 11,
     "metadata": {},
     "output_type": "execute_result"
    }
   ],
   "source": [
    "# tampilkan data describe\n",
    "df_1.describe()"
   ]
  },
  {
   "cell_type": "markdown",
   "metadata": {},
   "source": [
    "Dari pengolahan describe diatas, dapat disimpulkan bahwa :\n",
    "\n",
    "- Rata-rata karyawan mulai  bekerja di perusahaan pada tahun 2015\n",
    "\n",
    "- Karyawan yang paling terakhir masuk kerja pada tahun 2018\n",
    "\n",
    "- karyawan paling lama bekerja dari tahun 2012\n",
    "\n",
    "\n",
    "jika mean dan median(50%) dari kolom tahun itu mirip angkanya, kemungkinan besar normal distribution dan jika jauh maka termasuk skew distribution. Dari data diatas hasinya menentukan bahwa datanya termasuk skew distribution."
   ]
  },
  {
   "cell_type": "markdown",
   "metadata": {},
   "source": [
    "# iv. Exploratory Data Analysis (EDA)\n",
    "Bagian ini berisi ekplorasi data pada dataset dengan menggunakan query, grouping, visualisasi sederhana, \n",
    "Informasi yang ingin kita dapatkan disini adalah :\n",
    "- persebaran data dilihat dari karyawan yang berhenti dan tetap bekerja di perusahaan,\n",
    "- persebaran tempat tinggal karyawan\n",
    "- pendidikan terakhri karyawan\n",
    "- tahun dimana karyawan mulai bekerja di perusahaan\n",
    "- payment tier dari karyawan\n",
    "- jumlah karyawan dilihat dari gender\n"
   ]
  },
  {
   "cell_type": "code",
   "execution_count": 12,
   "metadata": {},
   "outputs": [
    {
     "data": {
      "text/plain": [
       "Text(0.5, 1.0, 'City vc Age')"
      ]
     },
     "execution_count": 12,
     "metadata": {},
     "output_type": "execute_result"
    },
    {
     "data": {
      "image/png": "[encoded data removed]",
      "text/plain": [
       "<Figure size 1500x500 with 2 Axes>"
      ]
     },
     "metadata": {},
     "output_type": "display_data"
    }
   ],
   "source": [
    "# membuat kanvas\n",
    "plt.figure(figsize=(15,5))  \n",
    "\n",
    "# membuat grafik\n",
    "# Plot 1 taruh dikiri\n",
    "plt.subplot(1, 2, 1)       \n",
    "sns.histplot(df_1['LeaveOrNot'],kde=True, bins=30)   \n",
    "plt.title('Hitogram of LeaveOrNot')\n",
    "\n",
    "# Plot 1 taruh dikanan\n",
    "plt.subplot(1, 2, 2)     #untuk bikin kolom 2\n",
    "sns.scatterplot(x='City',y='Age',data=df_1)  #untuk bikin grafik\n",
    "plt.title('City vc Age')"
   ]
  },
  {
   "cell_type": "markdown",
   "metadata": {},
   "source": [
    "Terlihat dari data di atas kecenderungan pegawai tetap bekerja walau tingkat berhenti karyawan pun besar, terilihat persebaran data antara city dan age persebarannya merata."
   ]
  },
  {
   "cell_type": "code",
   "execution_count": 13,
   "metadata": {},
   "outputs": [
    {
     "data": {
      "image/png": "[encoded data removed]",
      "text/plain": [
       "<Figure size 800x800 with 1 Axes>"
      ]
     },
     "metadata": {},
     "output_type": "display_data"
    }
   ],
   "source": [
    "# Membuat Pie Chart\n",
    "fig,ax1 = plt.subplots(figsize=(8,8))\n",
    "\n",
    "df_1['City'].value_counts().plot(kind='pie', autopct='%.2f%%',ax=ax1)\n",
    "plt.title('Rasio City')\n",
    "plt.show()"
   ]
  },
  {
   "cell_type": "markdown",
   "metadata": {},
   "source": [
    "Dari pie chart di atas terlihat persebaran kota tempat asal karyawan :\n",
    "- 42.37 % karyawan berasal dari Bangalore\n",
    "- 28.98 % karyawan berasal dari Pune\n",
    "- 28.65 % karyawan berasal dari New Delhi"
   ]
  },
  {
   "cell_type": "code",
   "execution_count": 14,
   "metadata": {},
   "outputs": [
    {
     "data": {
      "image/png": "[encoded data removed]",
      "text/plain": [
       "<Figure size 1200x1200 with 6 Axes>"
      ]
     },
     "metadata": {},
     "output_type": "display_data"
    }
   ],
   "source": [
    "\n",
    "# Buat subplot dengan 3 baris dan 2 kolom\n",
    "fig, axes = plt.subplots(3, 2, figsize=(12, 12))\n",
    "\n",
    "# Palet warna yang berbeda untuk setiap grafik\n",
    "palettes = [\"Set1\", \"Set2\", \"Set3\", \"Set3\", \"Set2\", \"Set1\"]\n",
    "\n",
    "# Grafik pertama (baris 1, kolom 1)\n",
    "sns.countplot(x=df_1[\"Education\"], ax=axes[0, 0], palette=palettes[0])\n",
    "axes[0, 0].set_title(\"Education\")\n",
    "axes[0, 0].set_ylabel(\"Quantity\")\n",
    "\n",
    "# Grafik kedua (baris 1, kolom 2)\n",
    "sns.countplot(x=df_1[\"JoiningYear\"], ax=axes[0, 1], palette=palettes[1])\n",
    "axes[0, 1].set_title(\"JoiningYear\")\n",
    "axes[0, 1].set_ylabel(\"Quantity\")\n",
    "\n",
    "# Grafik ketiga (baris 2, kolom 1)\n",
    "sns.countplot(x=df_1[\"PaymentTier\"], ax=axes[1, 0], palette=palettes[2])\n",
    "axes[1, 0].set_title(\"PaymentTier\")\n",
    "axes[1, 0].set_ylabel(\"Quantity\")\n",
    "\n",
    "# Grafik keempat (baris 2, kolom 2)\n",
    "sns.countplot(x=df_1[\"Gender\"], ax=axes[1, 1], palette=palettes[3])\n",
    "axes[1, 1].set_title(\"Gender\")\n",
    "axes[1, 1].set_ylabel(\"Quantity\")\n",
    "\n",
    "# Grafik kelima (baris 3, kolom 1)\n",
    "sns.countplot(x=df_1[\"Age\"], ax=axes[2, 0], palette=palettes[4])\n",
    "axes[2, 0].set_title(\"PaymentTier\")\n",
    "axes[2, 0].set_ylabel(\"Quantity\")\n",
    "\n",
    "# Grafik keenam (baris 3, kolom 2)\n",
    "sns.countplot(x=df_1[\"EverBenched\"], ax=axes[2, 1], palette=palettes[5])\n",
    "axes[2, 1].set_title(\"EverBenched\")\n",
    "axes[2, 1].set_ylabel(\"Quantity\")\n",
    "\n",
    "# Atur tata letak subplot\n",
    "plt.tight_layout()\n",
    "\n",
    "# Tampilkan grafik\n",
    "plt.show()"
   ]
  },
  {
   "cell_type": "markdown",
   "metadata": {},
   "source": [
    "Dari Histogram di atas kita dapatkan informasi : \n",
    "- Kolom Education : karyawan paling banyak dari lulusan Bachelor,\n",
    "- Kolom JoinYear : mayoritas karyawan mulai bekerja pada tahun 2017,\n",
    "- Kolom PaymenTier : paymenttier tertinggi di angka 3 bulan.\n",
    "- Kolom Gender : mayoritas karyawan adala male (pria)\n",
    "- Kolom Age : persebaran usia pegawai terlihat merata, usia 28 tahun adalah usia terbanyak dari karyawan.\n",
    "- Kolom EverBench : didominasi oleh karyawa yang tidak pernah keluar dari prusahaan. "
   ]
  },
  {
   "cell_type": "code",
   "execution_count": 15,
   "metadata": {},
   "outputs": [
    {
     "data": {
      "image/png": "[encoded data removed]",
      "text/plain": [
       "<Figure size 1500x500 with 3 Axes>"
      ]
     },
     "metadata": {},
     "output_type": "display_data"
    }
   ],
   "source": [
    "# Memilih fitur yang akan dianalisis\n",
    "selected_features = ['Gender', 'Education', 'City']\n",
    "\n",
    "# Membuat subplot untuk menampilkan hubungan antara fitur-fitur dan target class 'LeaveOrNot'\n",
    "plt.figure(figsize=(15, 5))\n",
    "for i, feature in enumerate(selected_features):\n",
    "    plt.subplot(1, 3, i+1)  # 3 baris, 1 kolom, nomor subplot ke-i+1\n",
    "    sns.countplot(data=df_1, x=feature, hue='LeaveOrNot', palette=['#0073E6', '#FF0000'])\n",
    "    plt.title(f'Relationship between {feature} and LeaveOrNot')\n",
    "    plt.xlabel(feature)\n",
    "    plt.ylabel('Count')\n",
    "\n",
    "plt.tight_layout()\n",
    "plt.show()"
   ]
  },
  {
   "cell_type": "markdown",
   "metadata": {},
   "source": [
    "dari diagram di atas kita bisa dapatkan informasi bahwa :\n",
    "- Dari kolom Gender : untuk male lebih banyak yang tetap bekerja dari pada yang memutuskan untuk berhenti bekerja, sedangkan pada female memang lebih banyak yang tetap bekerja tapi tingkat karyawan yang memutuskan untuk berhenti juga banyak hampir setara.\n",
    "- Dari kolom Educaation : baik bachelor, Master dan PHD masih tetap yang memutuskan bekerja lebih banyak daripada yang memutuskan untuk berhenti.\n",
    "- dari kolom kota : kota pune merupakan kota asal karyawan yang lebih banyak memutuskan untuk berhenti bekerja daripada tetap bekerja di perusahaan."
   ]
  },
  {
   "cell_type": "markdown",
   "metadata": {},
   "source": [
    "# v. Feature Engineering"
   ]
  },
  {
   "cell_type": "markdown",
   "metadata": {},
   "source": [
    "Proses untuk mengembangkan dan memilih suatu fitur atau atribut (features) yang akan digunakan untuk melakukan analisis data atau dalam melakukan pembuatan sebuah model machine learning.\n",
    "yang dilakukan pada tahap ini adalah : \n",
    "- Data spliting\n",
    "- Missing Value Handling\n",
    "- Outlier Handling\n",
    "- Fitur Selection\n",
    "- Split Numerical Columns dan Categorical Columns\n",
    "- Cek Cardinality\n",
    "- Fiture Scalling\n",
    "- Feature Encoding\n",
    "- Concate between numerical and categorical columns"
   ]
  },
  {
   "cell_type": "markdown",
   "metadata": {},
   "source": [
    "### a. Data Spliting"
   ]
  },
  {
   "cell_type": "markdown",
   "metadata": {},
   "source": [
    "### a.1 Membuat sample data inference"
   ]
  },
  {
   "cell_type": "code",
   "execution_count": 16,
   "metadata": {},
   "outputs": [],
   "source": [
    "# menyimpan 1 data acak dari data asli untuk dijadikan inferensi data ke dalam variabel data_inf\n",
    "data_inf = df_1.sample(1, random_state=40)\n",
    " \n",
    "# hapus inferensi data dari df\n",
    "df_1.drop(data_inf.index, inplace=True)\n",
    "\n",
    "# reset indeks untuk data_inf dan df\n",
    "df_1.reset_index(drop=True, inplace=True)\n",
    "data_inf.reset_index(drop=True, inplace=True)\n",
    "\n",
    "data_inf.to_csv('data_inf.csv',index=False)"
   ]
  },
  {
   "cell_type": "markdown",
   "metadata": {},
   "source": [
    "Sampel data ini kita ambil satu baris dari seluruh data untuk kemudian dijadikan sebagai bahan prediksi."
   ]
  },
  {
   "cell_type": "markdown",
   "metadata": {},
   "source": [
    "### a.2 Split between X (Faeture/Variables) and y (Target)"
   ]
  },
  {
   "cell_type": "markdown",
   "metadata": {},
   "source": [
    "Memisahkan antara target dan variablel"
   ]
  },
  {
   "cell_type": "code",
   "execution_count": 17,
   "metadata": {},
   "outputs": [
    {
     "data": {
      "text/plain": [
       "(2763, 8)"
      ]
     },
     "execution_count": 17,
     "metadata": {},
     "output_type": "execute_result"
    }
   ],
   "source": [
    "# Pisahkan antara 'X' dan 'y'\n",
    "X = df_1.drop(['LeaveOrNot'],axis=1)\n",
    "y = df_1.LeaveOrNot\n",
    "X.shape"
   ]
  },
  {
   "cell_type": "code",
   "execution_count": 18,
   "metadata": {},
   "outputs": [
    {
     "data": {
      "text/plain": [
       "['Education',\n",
       " 'JoiningYear',\n",
       " 'City',\n",
       " 'PaymentTier',\n",
       " 'Age',\n",
       " 'Gender',\n",
       " 'EverBenched',\n",
       " 'ExperienceInCurrentDomain',\n",
       " 'LeaveOrNot']"
      ]
     },
     "execution_count": 18,
     "metadata": {},
     "output_type": "execute_result"
    }
   ],
   "source": [
    "# Tampilkan kolom dalam bentuk list\n",
    "df_1.columns.tolist()"
   ]
  },
  {
   "cell_type": "markdown",
   "metadata": {},
   "source": [
    "Variable (X) ini berisi :\n",
    "- Education',\n",
    "- 'JoiningYear',\n",
    "- 'City',\n",
    "- 'PaymentTier',\n",
    "- 'Age',\n",
    "- 'Gender',\n",
    "- 'EverBenched',\n",
    "- 'ExperienceInCurrentDomain',\n",
    "\n",
    "\n",
    "Data target (y) adalah kolom 'LeaveOrNot', kita akan menggunakan label ini sebagai target saat membangun model dalam melakukan analisis lebih lanjut.\n"
   ]
  },
  {
   "cell_type": "markdown",
   "metadata": {},
   "source": [
    "### a.3 Split between Train-set and Test-set"
   ]
  },
  {
   "cell_type": "code",
   "execution_count": 19,
   "metadata": {},
   "outputs": [
    {
     "name": "stdout",
     "output_type": "stream",
     "text": [
      "Train Size : (2072, 8)\n",
      "Test Size : (691, 8)\n"
     ]
    },
    {
     "data": {
      "text/html": [
       "<div>\n",
       "<style scoped>\n",
       "    .dataframe tbody tr th:only-of-type {\n",
       "        vertical-align: middle;\n",
       "    }\n",
       "\n",
       "    .dataframe tbody tr th {\n",
       "        vertical-align: top;\n",
       "    }\n",
       "\n",
       "    .dataframe thead th {\n",
       "        text-align: right;\n",
       "    }\n",
       "</style>\n",
       "<table border=\"1\" class=\"dataframe\">\n",
       "  <thead>\n",
       "    <tr style=\"text-align: right;\">\n",
       "      <th></th>\n",
       "      <th>Education</th>\n",
       "      <th>JoiningYear</th>\n",
       "      <th>City</th>\n",
       "      <th>PaymentTier</th>\n",
       "      <th>Age</th>\n",
       "      <th>Gender</th>\n",
       "      <th>EverBenched</th>\n",
       "      <th>ExperienceInCurrentDomain</th>\n",
       "    </tr>\n",
       "  </thead>\n",
       "  <tbody>\n",
       "    <tr>\n",
       "      <th>737</th>\n",
       "      <td>Bachelors</td>\n",
       "      <td>2016</td>\n",
       "      <td>Bangalore</td>\n",
       "      <td>2</td>\n",
       "      <td>25</td>\n",
       "      <td>Male</td>\n",
       "      <td>No</td>\n",
       "      <td>3</td>\n",
       "    </tr>\n",
       "    <tr>\n",
       "      <th>1611</th>\n",
       "      <td>Bachelors</td>\n",
       "      <td>2014</td>\n",
       "      <td>Bangalore</td>\n",
       "      <td>3</td>\n",
       "      <td>36</td>\n",
       "      <td>Female</td>\n",
       "      <td>No</td>\n",
       "      <td>1</td>\n",
       "    </tr>\n",
       "    <tr>\n",
       "      <th>1783</th>\n",
       "      <td>Bachelors</td>\n",
       "      <td>2014</td>\n",
       "      <td>Pune</td>\n",
       "      <td>3</td>\n",
       "      <td>37</td>\n",
       "      <td>Male</td>\n",
       "      <td>No</td>\n",
       "      <td>1</td>\n",
       "    </tr>\n",
       "    <tr>\n",
       "      <th>2151</th>\n",
       "      <td>Bachelors</td>\n",
       "      <td>2017</td>\n",
       "      <td>New Delhi</td>\n",
       "      <td>2</td>\n",
       "      <td>31</td>\n",
       "      <td>Male</td>\n",
       "      <td>No</td>\n",
       "      <td>2</td>\n",
       "    </tr>\n",
       "    <tr>\n",
       "      <th>1532</th>\n",
       "      <td>Masters</td>\n",
       "      <td>2018</td>\n",
       "      <td>Bangalore</td>\n",
       "      <td>3</td>\n",
       "      <td>39</td>\n",
       "      <td>Male</td>\n",
       "      <td>No</td>\n",
       "      <td>3</td>\n",
       "    </tr>\n",
       "  </tbody>\n",
       "</table>\n",
       "</div>"
      ],
      "text/plain": [
       "      Education  JoiningYear       City  PaymentTier  Age  Gender EverBenched  \\\n",
       "737   Bachelors         2016  Bangalore            2   25    Male          No   \n",
       "1611  Bachelors         2014  Bangalore            3   36  Female          No   \n",
       "1783  Bachelors         2014       Pune            3   37    Male          No   \n",
       "2151  Bachelors         2017  New Delhi            2   31    Male          No   \n",
       "1532    Masters         2018  Bangalore            3   39    Male          No   \n",
       "\n",
       "      ExperienceInCurrentDomain  \n",
       "737                           3  \n",
       "1611                          1  \n",
       "1783                          1  \n",
       "2151                          2  \n",
       "1532                          3  "
      ]
     },
     "execution_count": 19,
     "metadata": {},
     "output_type": "execute_result"
    }
   ],
   "source": [
    "# Memisahkan antara Train dan Test menggunakan 'train_test_split()'\n",
    "\n",
    "X_train, X_test, y_train, y_test = train_test_split(X, y, test_size=0.25, random_state=10)     #test size 0.2 artinya 20% biasanya digunakan 0,2-0.25dari seluruh data #random state harus di isi dengan nilai agar tidak berubah2 boleh dengan angka apapun\n",
    "\n",
    "print('Train Size :', X_train.shape)\n",
    "print('Test Size :', X_test.shape)\n",
    "X_train.head()"
   ]
  },
  {
   "cell_type": "markdown",
   "metadata": {},
   "source": [
    "Setelah dilakukan hasil Train Size adalah (2072, 8), dan Test Size = (691, 8)"
   ]
  },
  {
   "cell_type": "markdown",
   "metadata": {},
   "source": [
    "### b. Missing Value Handling"
   ]
  },
  {
   "cell_type": "markdown",
   "metadata": {},
   "source": [
    "Pada tahap ini kita cek apakah ada missing value jika ada handling jika ternyata tidak ada lanjutkan ke proses selanjutnya."
   ]
  },
  {
   "cell_type": "code",
   "execution_count": 20,
   "metadata": {},
   "outputs": [
    {
     "data": {
      "text/plain": [
       "Education                    0\n",
       "JoiningYear                  0\n",
       "City                         0\n",
       "PaymentTier                  0\n",
       "Age                          0\n",
       "Gender                       0\n",
       "EverBenched                  0\n",
       "ExperienceInCurrentDomain    0\n",
       "LeaveOrNot                   0\n",
       "dtype: int64"
      ]
     },
     "execution_count": 20,
     "metadata": {},
     "output_type": "execute_result"
    }
   ],
   "source": [
    "# Memeriksa nilai yang hilang dalam setiap kolom\n",
    "missing_values = df_1.isnull().sum()\n",
    "\n",
    "# Menampilkan jumlah nilai yang hilang dalam setiap kolom\n",
    "missing_values"
   ]
  },
  {
   "cell_type": "markdown",
   "metadata": {},
   "source": [
    "Data tidak memiliki missing value"
   ]
  },
  {
   "cell_type": "markdown",
   "metadata": {},
   "source": [
    "### C. Outlier Handling"
   ]
  },
  {
   "cell_type": "markdown",
   "metadata": {},
   "source": [
    "Pada bagian ini kita melakukan proses outlier handling dengan tahapan :\n",
    "- Menentukan data distribusi normal atau tidak\n",
    "- Menampilkan distribusi melalui diagram\n",
    "- Memastikan nilai upper bounder dan lower bounder\n",
    "- Handling fitur yang memiliki outlier"
   ]
  },
  {
   "cell_type": "markdown",
   "metadata": {},
   "source": [
    "#### a. Cek Distribusi"
   ]
  },
  {
   "cell_type": "markdown",
   "metadata": {},
   "source": [
    "Disisni akan kita cari tau mana kolom dengan distribusi normal dan skew."
   ]
  },
  {
   "cell_type": "code",
   "execution_count": 21,
   "metadata": {},
   "outputs": [
    {
     "name": "stdout",
     "output_type": "stream",
     "text": [
      "Distribution of column  ['Age']          :  0.3836867213404765\n",
      "Distribution of column  ['JoiningYear']          :  -0.14737764293658978\n",
      "Distribution of column  ['ExperienceInCurrentDomain']          :  0.0671700642649548\n"
     ]
    }
   ],
   "source": [
    "#buat data frame baru yang berisi kolom numerical\n",
    "categorical = ['Education', 'City', 'Gender', 'EverBenched',]\n",
    "numerical = ['Age', 'JoiningYear', 'ExperienceInCurrentDomain']\n",
    "ordinal = ['PaymentTier']\n",
    "for i in numerical:\n",
    "     print(f'Distribution of column  {[i]}          : ', X_train[i].skew())"
   ]
  },
  {
   "cell_type": "markdown",
   "metadata": {},
   "source": [
    "Kolom Age, JoiningYear dan ExperienceInCurrentDomain merupakan kolom dengan distribusi normal."
   ]
  },
  {
   "cell_type": "markdown",
   "metadata": {},
   "source": [
    "### b. Menampilkan Diagram Distribusi"
   ]
  },
  {
   "cell_type": "code",
   "execution_count": 22,
   "metadata": {},
   "outputs": [],
   "source": [
    "# membuat histogram dan boxplot.\n",
    "# menggunakan kerangka data (df_num) dan variabel yang diinginkan sebagai argumen.\n",
    "\n",
    "def diagnostic_plots(df_num, variable):\n",
    "    # Define figure size\n",
    "    plt.figure(figsize=(16, 4))\n",
    "\n",
    "    # Histogram\n",
    "    plt.subplot(1, 2, 1)\n",
    "    sns.histplot(df_num[variable], bins=30)\n",
    "    plt.title('Histogram')\n",
    "\n",
    "    # Boxplot\n",
    "    plt.subplot(1, 2, 2)\n",
    "    sns.boxplot(y=df_num[variable])\n",
    "    plt.title('Boxplot')\n",
    "\n",
    "    plt.show()\n",
    "    print('Distribution of column            : ', df_num[variable].skew())\n"
   ]
  },
  {
   "cell_type": "code",
   "execution_count": 23,
   "metadata": {},
   "outputs": [
    {
     "data": {
      "image/png": "[encoded data removed]",
      "text/plain": [
       "<Figure size 1600x400 with 2 Axes>"
      ]
     },
     "metadata": {},
     "output_type": "display_data"
    },
    {
     "name": "stdout",
     "output_type": "stream",
     "text": [
      "Distribution of column            :  0.3836867213404765\n"
     ]
    },
    {
     "data": {
      "image/png": "[encoded data removed]",
      "text/plain": [
       "<Figure size 1600x400 with 2 Axes>"
      ]
     },
     "metadata": {},
     "output_type": "display_data"
    },
    {
     "name": "stdout",
     "output_type": "stream",
     "text": [
      "Distribution of column            :  -0.14737764293658978\n"
     ]
    },
    {
     "data": {
      "image/png": "[encoded data removed]",
      "text/plain": [
       "<Figure size 1600x400 with 2 Axes>"
      ]
     },
     "metadata": {},
     "output_type": "display_data"
    },
    {
     "name": "stdout",
     "output_type": "stream",
     "text": [
      "Distribution of column            :  0.0671700642649548\n"
     ]
    }
   ],
   "source": [
    "# Loop melalui setiap kolom dan memanggil diagnostic_plots\n",
    "# Define the list of columns you want to plot\n",
    "\n",
    "for column in numerical:\n",
    "    diagnostic_plots(X_train, column)\n",
    "    plt.show()  # Menampilkan setiap plot"
   ]
  },
  {
   "cell_type": "markdown",
   "metadata": {},
   "source": [
    "Dapat dilihat dari diagram bahwa kolom 'Age', 'JoiningYear' dan 'ExperienceInCurrentDomain' berdistribusi normal dan tidak memiliki outlier."
   ]
  },
  {
   "cell_type": "markdown",
   "metadata": {},
   "source": [
    "#### c. Memastikan nilai upper bounder dan lower bounder"
   ]
  },
  {
   "cell_type": "markdown",
   "metadata": {},
   "source": [
    "Memastikan nilai upper bound dan lower bound penting untuk menjaga validitas data, menghindari kesalahan perhitungan, dan mematuhi batasan yang ada dalam konteks tertentu. dalam hal ini memeriksa apakah data sudah di antara upper bounder atau belum."
   ]
  },
  {
   "cell_type": "code",
   "execution_count": 24,
   "metadata": {},
   "outputs": [],
   "source": [
    "# Berfungsi untuk mencari batas atas dan bawah variabel yang terdistribusi normal\n",
    "def find_normal_boundaries(df_1, variable):\n",
    "    # Hitung batas luar yang merupakan outlier untuk distribusi Gaussian\n",
    "    upper_boundary = df_1[variable].mean() + 3 * df_1[variable].std()\n",
    "    lower_boundary = df_1[variable].mean() - 3 * df_1[variable].std()\n",
    "\n",
    "    return upper_boundary, lower_boundary"
   ]
  },
  {
   "cell_type": "code",
   "execution_count": 25,
   "metadata": {},
   "outputs": [
    {
     "name": "stdout",
     "output_type": "stream",
     "text": [
      "upper boundary for ['Age'] : 47.0\n",
      "lower boundary for ['Age'] : 15.0\n",
      "---------------------------------------------------------\n",
      "upper boundary for ['JoiningYear'] : 2023.0\n",
      "lower boundary for ['JoiningYear'] : 2007.0\n",
      "---------------------------------------------------------\n",
      "upper boundary for ['ExperienceInCurrentDomain'] : 8.5\n",
      "lower boundary for ['ExperienceInCurrentDomain'] : -3.5\n",
      "---------------------------------------------------------\n"
     ]
    }
   ],
   "source": [
    "for i in numerical :\n",
    "    # Kita hitung batas luar yang merupakan outlier untuk distribusi yang miring\n",
    "    IQR = X_train[i].quantile(0.75) - X_train[i].quantile(0.25)\n",
    "    # Jarak yang dilewati sebagai argumen, memberi kita pilihan untuk memperkirakan 1,5 kali atau 3 kali IQR untuk menghitung batasannya.\n",
    "    lower_boundary_distance = X_train[i].quantile(0.25) - (IQR * 1.5)\n",
    "    upper_boundary_distance = X_train[i].quantile(0.75) + (IQR * 1.5)\n",
    "\n",
    "    print(f'upper boundary for {[i]} : {upper_boundary_distance}')\n",
    "    print(f'lower boundary for {[i]} : {lower_boundary_distance}')\n",
    "    print(\"---------------------------------------------------------\")"
   ]
  },
  {
   "cell_type": "markdown",
   "metadata": {},
   "source": [
    "Dari data di atas data pada kolom 'age', 'ExperienceInCurrentDomain' dan 'ExperienceInCurrentDomain' masih dalam upper don lower bounder membuktikan data tidak memiliki outlier dan tidak perlu melakukan capping."
   ]
  },
  {
   "cell_type": "markdown",
   "metadata": {},
   "source": [
    "### D. Fitur Selection"
   ]
  },
  {
   "cell_type": "markdown",
   "metadata": {},
   "source": [
    "Fitur selection disini menggunakan metode phik karena mampu membaca korelasi dari numerik dan categorikal."
   ]
  },
  {
   "cell_type": "code",
   "execution_count": 26,
   "metadata": {},
   "outputs": [
    {
     "name": "stdout",
     "output_type": "stream",
     "text": [
      "interval columns not set, guessing: ['JoiningYear', 'PaymentTier', 'Age', 'ExperienceInCurrentDomain', 'LeaveOrNot']\n"
     ]
    },
    {
     "data": {
      "image/png": "[encoded data removed]",
      "text/plain": [
       "<Figure size 1000x1000 with 2 Axes>"
      ]
     },
     "metadata": {},
     "output_type": "display_data"
    }
   ],
   "source": [
    "#menampilkan korelasi data\n",
    "corr = df_1.phik_matrix()\n",
    "plt.figure(figsize=(10,10))\n",
    "sns.heatmap(corr, annot=True)\n",
    "plt.show()"
   ]
  },
  {
   "cell_type": "markdown",
   "metadata": {},
   "source": [
    "Dari hasil uji korelasi dengan menggunakan metode Phik di atas terlihat korelasi tidak ada yang lebih dari 0,5 sehingga di putuskan untuk mengambil korelasi > 0,1, sehingga di dapatkan fitur :\n",
    "- 'JoiningYear',\n",
    "- 'PaymentTier',\n",
    "- 'Age'\n",
    "- 'Gender'\n",
    "- 'City'\n",
    "\n",
    "Namun mempertimbangkan pengalaman bahwa kota tempat tinggal berpengaruh pada kenyamanan seorang bekerja hingga berbuntut pada keputusan seorang pegawai memilih untuk melanjutkan bekerja atau leave maka city akan di masukan pada fitur."
   ]
  },
  {
   "cell_type": "markdown",
   "metadata": {},
   "source": [
    "Setelah di dapatkan fitur yang di gunakan selanjutnya kita menghapus kolom dari X_train dan y_train yang tidak berpengaruh terhadap y label yaitu LeaveorNot."
   ]
  },
  {
   "cell_type": "code",
   "execution_count": 27,
   "metadata": {},
   "outputs": [
    {
     "data": {
      "text/plain": [
       "(2072, 5)"
      ]
     },
     "execution_count": 27,
     "metadata": {},
     "output_type": "execute_result"
    }
   ],
   "source": [
    "# hapus kolom pada X_train\n",
    "X_train = X_train.drop(['Education','EverBenched', 'ExperienceInCurrentDomain'],axis=1)\n",
    "X_train.shape"
   ]
  },
  {
   "cell_type": "code",
   "execution_count": 28,
   "metadata": {},
   "outputs": [
    {
     "data": {
      "text/html": [
       "<div>\n",
       "<style scoped>\n",
       "    .dataframe tbody tr th:only-of-type {\n",
       "        vertical-align: middle;\n",
       "    }\n",
       "\n",
       "    .dataframe tbody tr th {\n",
       "        vertical-align: top;\n",
       "    }\n",
       "\n",
       "    .dataframe thead th {\n",
       "        text-align: right;\n",
       "    }\n",
       "</style>\n",
       "<table border=\"1\" class=\"dataframe\">\n",
       "  <thead>\n",
       "    <tr style=\"text-align: right;\">\n",
       "      <th></th>\n",
       "      <th>JoiningYear</th>\n",
       "      <th>City</th>\n",
       "      <th>PaymentTier</th>\n",
       "      <th>Age</th>\n",
       "      <th>Gender</th>\n",
       "    </tr>\n",
       "  </thead>\n",
       "  <tbody>\n",
       "    <tr>\n",
       "      <th>981</th>\n",
       "      <td>2018</td>\n",
       "      <td>Bangalore</td>\n",
       "      <td>3</td>\n",
       "      <td>30</td>\n",
       "      <td>Female</td>\n",
       "    </tr>\n",
       "    <tr>\n",
       "      <th>955</th>\n",
       "      <td>2017</td>\n",
       "      <td>New Delhi</td>\n",
       "      <td>3</td>\n",
       "      <td>26</td>\n",
       "      <td>Female</td>\n",
       "    </tr>\n",
       "    <tr>\n",
       "      <th>543</th>\n",
       "      <td>2017</td>\n",
       "      <td>Bangalore</td>\n",
       "      <td>3</td>\n",
       "      <td>24</td>\n",
       "      <td>Male</td>\n",
       "    </tr>\n",
       "    <tr>\n",
       "      <th>2421</th>\n",
       "      <td>2014</td>\n",
       "      <td>Pune</td>\n",
       "      <td>3</td>\n",
       "      <td>32</td>\n",
       "      <td>Male</td>\n",
       "    </tr>\n",
       "    <tr>\n",
       "      <th>2191</th>\n",
       "      <td>2014</td>\n",
       "      <td>Bangalore</td>\n",
       "      <td>3</td>\n",
       "      <td>35</td>\n",
       "      <td>Male</td>\n",
       "    </tr>\n",
       "  </tbody>\n",
       "</table>\n",
       "</div>"
      ],
      "text/plain": [
       "      JoiningYear       City  PaymentTier  Age  Gender\n",
       "981          2018  Bangalore            3   30  Female\n",
       "955          2017  New Delhi            3   26  Female\n",
       "543          2017  Bangalore            3   24    Male\n",
       "2421         2014       Pune            3   32    Male\n",
       "2191         2014  Bangalore            3   35    Male"
      ]
     },
     "execution_count": 28,
     "metadata": {},
     "output_type": "execute_result"
    }
   ],
   "source": [
    "# hapus kolom pada X_test\n",
    "X_test = X_test.drop(['Education','EverBenched', 'ExperienceInCurrentDomain'],axis=1)\n",
    "X_test.head()"
   ]
  },
  {
   "cell_type": "code",
   "execution_count": 29,
   "metadata": {},
   "outputs": [
    {
     "name": "stdout",
     "output_type": "stream",
     "text": [
      "<class 'pandas.core.frame.DataFrame'>\n",
      "Index: 2072 entries, 737 to 1289\n",
      "Data columns (total 5 columns):\n",
      " #   Column       Non-Null Count  Dtype \n",
      "---  ------       --------------  ----- \n",
      " 0   JoiningYear  2072 non-null   int64 \n",
      " 1   City         2072 non-null   object\n",
      " 2   PaymentTier  2072 non-null   int64 \n",
      " 3   Age          2072 non-null   int64 \n",
      " 4   Gender       2072 non-null   object\n",
      "dtypes: int64(3), object(2)\n",
      "memory usage: 97.1+ KB\n"
     ]
    }
   ],
   "source": [
    "X_train.info()"
   ]
  },
  {
   "cell_type": "markdown",
   "metadata": {},
   "source": [
    "Sudah fix fitur yang akan akan kita gunakan dalam memprediksi karyawan akan leave atau tidak, yaitu :\n",
    "- 'JoiningYear',\n",
    "- 'PaymentTier',\n",
    "- 'Age'\n",
    "- 'Gender'\n",
    "- 'City'"
   ]
  },
  {
   "cell_type": "markdown",
   "metadata": {},
   "source": [
    "### E. Split Numerical Columns dan Categorical Columns"
   ]
  },
  {
   "cell_type": "code",
   "execution_count": 30,
   "metadata": {},
   "outputs": [
    {
     "name": "stdout",
     "output_type": "stream",
     "text": [
      "Numerical columns: ['Age', 'JoiningYear']\n",
      "Categorical columns: ['City', 'Gender', 'PaymentTier']\n"
     ]
    }
   ],
   "source": [
    "# Inisialisasi list untuk kolom numerik dan kategorikal\n",
    "num_col = ['Age', 'JoiningYear']\n",
    "cat_col = ['City', 'Gender','PaymentTier']\n",
    "\n",
    "# Menampilkan daftar kolom numerik\n",
    "print('Numerical columns:',num_col)\n",
    "\n",
    "# Menampilkan daftar kolom kategorikal\n",
    "print('Categorical columns:',cat_col)\n"
   ]
  },
  {
   "cell_type": "markdown",
   "metadata": {},
   "source": [
    "Memisahkan x train"
   ]
  },
  {
   "cell_type": "code",
   "execution_count": 31,
   "metadata": {},
   "outputs": [
    {
     "data": {
      "text/html": [
       "<div>\n",
       "<style scoped>\n",
       "    .dataframe tbody tr th:only-of-type {\n",
       "        vertical-align: middle;\n",
       "    }\n",
       "\n",
       "    .dataframe tbody tr th {\n",
       "        vertical-align: top;\n",
       "    }\n",
       "\n",
       "    .dataframe thead th {\n",
       "        text-align: right;\n",
       "    }\n",
       "</style>\n",
       "<table border=\"1\" class=\"dataframe\">\n",
       "  <thead>\n",
       "    <tr style=\"text-align: right;\">\n",
       "      <th></th>\n",
       "      <th>Age</th>\n",
       "      <th>JoiningYear</th>\n",
       "    </tr>\n",
       "  </thead>\n",
       "  <tbody>\n",
       "    <tr>\n",
       "      <th>737</th>\n",
       "      <td>25</td>\n",
       "      <td>2016</td>\n",
       "    </tr>\n",
       "    <tr>\n",
       "      <th>1611</th>\n",
       "      <td>36</td>\n",
       "      <td>2014</td>\n",
       "    </tr>\n",
       "    <tr>\n",
       "      <th>1783</th>\n",
       "      <td>37</td>\n",
       "      <td>2014</td>\n",
       "    </tr>\n",
       "    <tr>\n",
       "      <th>2151</th>\n",
       "      <td>31</td>\n",
       "      <td>2017</td>\n",
       "    </tr>\n",
       "    <tr>\n",
       "      <th>1532</th>\n",
       "      <td>39</td>\n",
       "      <td>2018</td>\n",
       "    </tr>\n",
       "  </tbody>\n",
       "</table>\n",
       "</div>"
      ],
      "text/plain": [
       "      Age  JoiningYear\n",
       "737    25         2016\n",
       "1611   36         2014\n",
       "1783   37         2014\n",
       "2151   31         2017\n",
       "1532   39         2018"
      ]
     },
     "execution_count": 31,
     "metadata": {},
     "output_type": "execute_result"
    }
   ],
   "source": [
    "# Pisahkan train_set dan test_set berdasarkan jenis kolom\n",
    "X_train_num = X_train[num_col]\n",
    "X_test_num = X_test[num_col]\n",
    "\n",
    "X_train_cat = X_train[cat_col]\n",
    "X_test_cat = X_test[cat_col]\n",
    "\n",
    "X_train_num.head()"
   ]
  },
  {
   "cell_type": "code",
   "execution_count": 32,
   "metadata": {},
   "outputs": [
    {
     "data": {
      "text/html": [
       "<div>\n",
       "<style scoped>\n",
       "    .dataframe tbody tr th:only-of-type {\n",
       "        vertical-align: middle;\n",
       "    }\n",
       "\n",
       "    .dataframe tbody tr th {\n",
       "        vertical-align: top;\n",
       "    }\n",
       "\n",
       "    .dataframe thead th {\n",
       "        text-align: right;\n",
       "    }\n",
       "</style>\n",
       "<table border=\"1\" class=\"dataframe\">\n",
       "  <thead>\n",
       "    <tr style=\"text-align: right;\">\n",
       "      <th></th>\n",
       "      <th>City</th>\n",
       "      <th>Gender</th>\n",
       "      <th>PaymentTier</th>\n",
       "    </tr>\n",
       "  </thead>\n",
       "  <tbody>\n",
       "    <tr>\n",
       "      <th>737</th>\n",
       "      <td>Bangalore</td>\n",
       "      <td>Male</td>\n",
       "      <td>2</td>\n",
       "    </tr>\n",
       "    <tr>\n",
       "      <th>1611</th>\n",
       "      <td>Bangalore</td>\n",
       "      <td>Female</td>\n",
       "      <td>3</td>\n",
       "    </tr>\n",
       "    <tr>\n",
       "      <th>1783</th>\n",
       "      <td>Pune</td>\n",
       "      <td>Male</td>\n",
       "      <td>3</td>\n",
       "    </tr>\n",
       "    <tr>\n",
       "      <th>2151</th>\n",
       "      <td>New Delhi</td>\n",
       "      <td>Male</td>\n",
       "      <td>2</td>\n",
       "    </tr>\n",
       "    <tr>\n",
       "      <th>1532</th>\n",
       "      <td>Bangalore</td>\n",
       "      <td>Male</td>\n",
       "      <td>3</td>\n",
       "    </tr>\n",
       "  </tbody>\n",
       "</table>\n",
       "</div>"
      ],
      "text/plain": [
       "           City  Gender  PaymentTier\n",
       "737   Bangalore    Male            2\n",
       "1611  Bangalore  Female            3\n",
       "1783       Pune    Male            3\n",
       "2151  New Delhi    Male            2\n",
       "1532  Bangalore    Male            3"
      ]
     },
     "execution_count": 32,
     "metadata": {},
     "output_type": "execute_result"
    }
   ],
   "source": [
    "# Tampilkan X_train\n",
    "X_train_cat.head()"
   ]
  },
  {
   "cell_type": "markdown",
   "metadata": {},
   "source": [
    "Split trainset berhasil di jalankan"
   ]
  },
  {
   "cell_type": "markdown",
   "metadata": {},
   "source": [
    "### F. Cek Cardinality"
   ]
  },
  {
   "cell_type": "markdown",
   "metadata": {},
   "source": [
    "Melihat seberapa banyak jenis data pada kolo categorical."
   ]
  },
  {
   "cell_type": "code",
   "execution_count": 33,
   "metadata": {},
   "outputs": [
    {
     "data": {
      "text/html": [
       "<div>\n",
       "<style scoped>\n",
       "    .dataframe tbody tr th:only-of-type {\n",
       "        vertical-align: middle;\n",
       "    }\n",
       "\n",
       "    .dataframe tbody tr th {\n",
       "        vertical-align: top;\n",
       "    }\n",
       "\n",
       "    .dataframe thead th {\n",
       "        text-align: right;\n",
       "    }\n",
       "</style>\n",
       "<table border=\"1\" class=\"dataframe\">\n",
       "  <thead>\n",
       "    <tr style=\"text-align: right;\">\n",
       "      <th></th>\n",
       "      <th>Nama kolom</th>\n",
       "      <th>jumlah nilai unique</th>\n",
       "      <th>nilai unique</th>\n",
       "    </tr>\n",
       "  </thead>\n",
       "  <tbody>\n",
       "    <tr>\n",
       "      <th>0</th>\n",
       "      <td>City</td>\n",
       "      <td>3</td>\n",
       "      <td>[Bangalore, Pune, New Delhi]</td>\n",
       "    </tr>\n",
       "    <tr>\n",
       "      <th>1</th>\n",
       "      <td>Gender</td>\n",
       "      <td>2</td>\n",
       "      <td>[Male, Female]</td>\n",
       "    </tr>\n",
       "    <tr>\n",
       "      <th>2</th>\n",
       "      <td>PaymentTier</td>\n",
       "      <td>3</td>\n",
       "      <td>[2, 3, 1]</td>\n",
       "    </tr>\n",
       "  </tbody>\n",
       "</table>\n",
       "</div>"
      ],
      "text/plain": [
       "    Nama kolom  jumlah nilai unique                  nilai unique\n",
       "0         City                    3  [Bangalore, Pune, New Delhi]\n",
       "1       Gender                    2                [Male, Female]\n",
       "2  PaymentTier                    3                     [2, 3, 1]"
      ]
     },
     "execution_count": 33,
     "metadata": {},
     "output_type": "execute_result"
    }
   ],
   "source": [
    "#Show cardinality\n",
    "pd.set_option('display.max_colwidth', None)\n",
    "values = []\n",
    "for col in X_train_cat.columns:\n",
    "    values.append([col, X_train_cat[col].nunique(), X_train_cat[col].unique()])\n",
    "\n",
    "pd.DataFrame(values, columns=['Nama kolom', 'jumlah nilai unique', 'nilai unique'])"
   ]
  },
  {
   "cell_type": "markdown",
   "metadata": {},
   "source": [
    "Data merupakan low cardinality"
   ]
  },
  {
   "cell_type": "markdown",
   "metadata": {},
   "source": [
    "### g. Membuat Pipeline fitur Encoding dan Scaling"
   ]
  },
  {
   "cell_type": "markdown",
   "metadata": {},
   "source": [
    "- Encoding menggunakan OneHotEncoder dengan mempertimbangakn kesederhanaan, kompatibilitas dengan berbagai algoritma, dan kemampuannya untuk menjaga keunikan setiap kategori dalam data kategoris.\n",
    "- Untuk mengubah data ke dalam rentang [0, 1] mempermudah perbandingan antar-variabel dan memungkinkan algoritma yang sensitif terhadap skala, seperti beberapa algoritma machine learning, bekerja lebih baik untuk itu scaling menggunakan MinMaxScaler."
   ]
  },
  {
   "cell_type": "code",
   "execution_count": 34,
   "metadata": {},
   "outputs": [],
   "source": [
    "# Definiskan encoder dan scaler\n",
    "encoder = OneHotEncoder(handle_unknown='ignore')\n",
    "scaler = MinMaxScaler()\n",
    "\n",
    "# list kolom numerical dan categorical\n",
    "num_col = ['Age']\n",
    "cat_col = ['JoiningYear', 'City', 'Gender']\n",
    "ord_col = ['PaymentTier']\n",
    "\n",
    "#Buat transformer\n",
    "transformer = ColumnTransformer(\n",
    "    [('scaler', scaler, num_col),\n",
    "     ('encoder', encoder, cat_col,),\n",
    "     ('passthrough', 'passthrough', ord_col)],\n",
    "     remainder='drop' )"
   ]
  },
  {
   "cell_type": "code",
   "execution_count": 35,
   "metadata": {},
   "outputs": [
    {
     "data": {
      "text/html": [
       "<style>#sk-container-id-1 {color: black;}#sk-container-id-1 pre{padding: 0;}#sk-container-id-1 div.sk-toggleable {background-color: white;}#sk-container-id-1 label.sk-toggleable__label {cursor: pointer;display: block;width: 100%;margin-bottom: 0;padding: 0.3em;box-sizing: border-box;text-align: center;}#sk-container-id-1 label.sk-toggleable__label-arrow:before {content: \"▸\";float: left;margin-right: 0.25em;color: #696969;}#sk-container-id-1 label.sk-toggleable__label-arrow:hover:before {color: black;}#sk-container-id-1 div.sk-estimator:hover label.sk-toggleable__label-arrow:before {color: black;}#sk-container-id-1 div.sk-toggleable__content {max-height: 0;max-width: 0;overflow: hidden;text-align: left;background-color: #f0f8ff;}#sk-container-id-1 div.sk-toggleable__content pre {margin: 0.2em;color: black;border-radius: 0.25em;background-color: #f0f8ff;}#sk-container-id-1 input.sk-toggleable__control:checked~div.sk-toggleable__content {max-height: 200px;max-width: 100%;overflow: auto;}#sk-container-id-1 input.sk-toggleable__control:checked~label.sk-toggleable__label-arrow:before {content: \"▾\";}#sk-container-id-1 div.sk-estimator input.sk-toggleable__control:checked~label.sk-toggleable__label {background-color: #d4ebff;}#sk-container-id-1 div.sk-label input.sk-toggleable__control:checked~label.sk-toggleable__label {background-color: #d4ebff;}#sk-container-id-1 input.sk-hidden--visually {border: 0;clip: rect(1px 1px 1px 1px);clip: rect(1px, 1px, 1px, 1px);height: 1px;margin: -1px;overflow: hidden;padding: 0;position: absolute;width: 1px;}#sk-container-id-1 div.sk-estimator {font-family: monospace;background-color: #f0f8ff;border: 1px dotted black;border-radius: 0.25em;box-sizing: border-box;margin-bottom: 0.5em;}#sk-container-id-1 div.sk-estimator:hover {background-color: #d4ebff;}#sk-container-id-1 div.sk-parallel-item::after {content: \"\";width: 100%;border-bottom: 1px solid gray;flex-grow: 1;}#sk-container-id-1 div.sk-label:hover label.sk-toggleable__label {background-color: #d4ebff;}#sk-container-id-1 div.sk-serial::before {content: \"\";position: absolute;border-left: 1px solid gray;box-sizing: border-box;top: 0;bottom: 0;left: 50%;z-index: 0;}#sk-container-id-1 div.sk-serial {display: flex;flex-direction: column;align-items: center;background-color: white;padding-right: 0.2em;padding-left: 0.2em;position: relative;}#sk-container-id-1 div.sk-item {position: relative;z-index: 1;}#sk-container-id-1 div.sk-parallel {display: flex;align-items: stretch;justify-content: center;background-color: white;position: relative;}#sk-container-id-1 div.sk-item::before, #sk-container-id-1 div.sk-parallel-item::before {content: \"\";position: absolute;border-left: 1px solid gray;box-sizing: border-box;top: 0;bottom: 0;left: 50%;z-index: -1;}#sk-container-id-1 div.sk-parallel-item {display: flex;flex-direction: column;z-index: 1;position: relative;background-color: white;}#sk-container-id-1 div.sk-parallel-item:first-child::after {align-self: flex-end;width: 50%;}#sk-container-id-1 div.sk-parallel-item:last-child::after {align-self: flex-start;width: 50%;}#sk-container-id-1 div.sk-parallel-item:only-child::after {width: 0;}#sk-container-id-1 div.sk-dashed-wrapped {border: 1px dashed gray;margin: 0 0.4em 0.5em 0.4em;box-sizing: border-box;padding-bottom: 0.4em;background-color: white;}#sk-container-id-1 div.sk-label label {font-family: monospace;font-weight: bold;display: inline-block;line-height: 1.2em;}#sk-container-id-1 div.sk-label-container {text-align: center;}#sk-container-id-1 div.sk-container {/* jupyter's `normalize.less` sets `[hidden] { display: none; }` but bootstrap.min.css set `[hidden] { display: none !important; }` so we also need the `!important` here to be able to override the default hidden behavior on the sphinx rendered scikit-learn.org. See: https://github.com/scikit-learn/scikit-learn/issues/21755 */display: inline-block !important;position: relative;}#sk-container-id-1 div.sk-text-repr-fallback {display: none;}</style><div id=\"sk-container-id-1\" class=\"sk-top-container\"><div class=\"sk-text-repr-fallback\"><pre>ColumnTransformer(transformers=[(&#x27;scaler&#x27;, MinMaxScaler(), [&#x27;Age&#x27;]),\n",
       "                                (&#x27;encoder&#x27;,\n",
       "                                 OneHotEncoder(handle_unknown=&#x27;ignore&#x27;),\n",
       "                                 [&#x27;JoiningYear&#x27;, &#x27;City&#x27;, &#x27;Gender&#x27;]),\n",
       "                                (&#x27;passthrough&#x27;, &#x27;passthrough&#x27;,\n",
       "                                 [&#x27;PaymentTier&#x27;])])</pre><b>In a Jupyter environment, please rerun this cell to show the HTML representation or trust the notebook. <br />On GitHub, the HTML representation is unable to render, please try loading this page with nbviewer.org.</b></div><div class=\"sk-container\" hidden><div class=\"sk-item sk-dashed-wrapped\"><div class=\"sk-label-container\"><div class=\"sk-label sk-toggleable\"><input class=\"sk-toggleable__control sk-hidden--visually\" id=\"sk-estimator-id-1\" type=\"checkbox\" ><label for=\"sk-estimator-id-1\" class=\"sk-toggleable__label sk-toggleable__label-arrow\">ColumnTransformer</label><div class=\"sk-toggleable__content\"><pre>ColumnTransformer(transformers=[(&#x27;scaler&#x27;, MinMaxScaler(), [&#x27;Age&#x27;]),\n",
       "                                (&#x27;encoder&#x27;,\n",
       "                                 OneHotEncoder(handle_unknown=&#x27;ignore&#x27;),\n",
       "                                 [&#x27;JoiningYear&#x27;, &#x27;City&#x27;, &#x27;Gender&#x27;]),\n",
       "                                (&#x27;passthrough&#x27;, &#x27;passthrough&#x27;,\n",
       "                                 [&#x27;PaymentTier&#x27;])])</pre></div></div></div><div class=\"sk-parallel\"><div class=\"sk-parallel-item\"><div class=\"sk-item\"><div class=\"sk-label-container\"><div class=\"sk-label sk-toggleable\"><input class=\"sk-toggleable__control sk-hidden--visually\" id=\"sk-estimator-id-2\" type=\"checkbox\" ><label for=\"sk-estimator-id-2\" class=\"sk-toggleable__label sk-toggleable__label-arrow\">scaler</label><div class=\"sk-toggleable__content\"><pre>[&#x27;Age&#x27;]</pre></div></div></div><div class=\"sk-serial\"><div class=\"sk-item\"><div class=\"sk-estimator sk-toggleable\"><input class=\"sk-toggleable__control sk-hidden--visually\" id=\"sk-estimator-id-3\" type=\"checkbox\" ><label for=\"sk-estimator-id-3\" class=\"sk-toggleable__label sk-toggleable__label-arrow\">MinMaxScaler</label><div class=\"sk-toggleable__content\"><pre>MinMaxScaler()</pre></div></div></div></div></div></div><div class=\"sk-parallel-item\"><div class=\"sk-item\"><div class=\"sk-label-container\"><div class=\"sk-label sk-toggleable\"><input class=\"sk-toggleable__control sk-hidden--visually\" id=\"sk-estimator-id-4\" type=\"checkbox\" ><label for=\"sk-estimator-id-4\" class=\"sk-toggleable__label sk-toggleable__label-arrow\">encoder</label><div class=\"sk-toggleable__content\"><pre>[&#x27;JoiningYear&#x27;, &#x27;City&#x27;, &#x27;Gender&#x27;]</pre></div></div></div><div class=\"sk-serial\"><div class=\"sk-item\"><div class=\"sk-estimator sk-toggleable\"><input class=\"sk-toggleable__control sk-hidden--visually\" id=\"sk-estimator-id-5\" type=\"checkbox\" ><label for=\"sk-estimator-id-5\" class=\"sk-toggleable__label sk-toggleable__label-arrow\">OneHotEncoder</label><div class=\"sk-toggleable__content\"><pre>OneHotEncoder(handle_unknown=&#x27;ignore&#x27;)</pre></div></div></div></div></div></div><div class=\"sk-parallel-item\"><div class=\"sk-item\"><div class=\"sk-label-container\"><div class=\"sk-label sk-toggleable\"><input class=\"sk-toggleable__control sk-hidden--visually\" id=\"sk-estimator-id-6\" type=\"checkbox\" ><label for=\"sk-estimator-id-6\" class=\"sk-toggleable__label sk-toggleable__label-arrow\">passthrough</label><div class=\"sk-toggleable__content\"><pre>[&#x27;PaymentTier&#x27;]</pre></div></div></div><div class=\"sk-serial\"><div class=\"sk-item\"><div class=\"sk-estimator sk-toggleable\"><input class=\"sk-toggleable__control sk-hidden--visually\" id=\"sk-estimator-id-7\" type=\"checkbox\" ><label for=\"sk-estimator-id-7\" class=\"sk-toggleable__label sk-toggleable__label-arrow\">passthrough</label><div class=\"sk-toggleable__content\"><pre>passthrough</pre></div></div></div></div></div></div></div></div></div></div>"
      ],
      "text/plain": [
       "ColumnTransformer(transformers=[('scaler', MinMaxScaler(), ['Age']),\n",
       "                                ('encoder',\n",
       "                                 OneHotEncoder(handle_unknown='ignore'),\n",
       "                                 ['JoiningYear', 'City', 'Gender']),\n",
       "                                ('passthrough', 'passthrough',\n",
       "                                 ['PaymentTier'])])"
      ]
     },
     "execution_count": 35,
     "metadata": {},
     "output_type": "execute_result"
    }
   ],
   "source": [
    "transformer"
   ]
  },
  {
   "cell_type": "markdown",
   "metadata": {},
   "source": [
    "Transformer berhasil dibuat."
   ]
  },
  {
   "cell_type": "markdown",
   "metadata": {},
   "source": [
    "# vi. Model Definition"
   ]
  },
  {
   "cell_type": "markdown",
   "metadata": {},
   "source": [
    "Dalam bagian ini menggunakan 7 model sebelum akhirnya di seleksi model mana yang paling baik di gunakan dengan pengujian matrics recall."
   ]
  },
  {
   "cell_type": "code",
   "execution_count": 36,
   "metadata": {},
   "outputs": [],
   "source": [
    "# Model definition\n",
    "log_model = LogisticRegression(max_iter=1000000)\n",
    "svm_model = SVC()\n",
    "dt_model = DecisionTreeClassifier(random_state=10)\n",
    "rf_model = RandomForestClassifier(random_state=10)\n",
    "knn_model = KNeighborsClassifier()\n",
    "nb_model = GaussianNB()\n",
    "ada_model = AdaBoostClassifier()"
   ]
  },
  {
   "cell_type": "markdown",
   "metadata": {},
   "source": [
    "Define model menggunakan pipeline"
   ]
  },
  {
   "cell_type": "code",
   "execution_count": 37,
   "metadata": {},
   "outputs": [],
   "source": [
    "# Pipeline model untuk Logistic Regression\n",
    "pipe_logreg = Pipeline([\n",
    "    ('transformer', transformer),  # Ganti dengan transformer Anda\n",
    "    ('model', log_model)\n",
    "])\n",
    "\n",
    "# Pipeline model untuk Support Vector Machine (SVM)\n",
    "pipe_svm = Pipeline([\n",
    "    ('transformer', transformer),  # Ganti dengan transformer Anda\n",
    "    ('model', svm_model)\n",
    "])\n",
    "\n",
    "# Pipeline model untuk Decision Tree\n",
    "pipe_dt = Pipeline([\n",
    "    ('transformer', transformer),  # Ganti dengan transformer Anda\n",
    "    ('model', dt_model)\n",
    "])\n",
    "\n",
    "# Pipeline model untuk Random Forest\n",
    "pipe_rf = Pipeline([\n",
    "    ('transformer', transformer),  # Ganti dengan transformer Anda\n",
    "    ('model', rf_model)\n",
    "])\n",
    "\n",
    "# Pipeline model untuk K-Nearest Neighbors (KNN)\n",
    "pipe_knn = Pipeline([\n",
    "    ('transformer', transformer),  # Ganti dengan transformer Anda\n",
    "    ('model', knn_model)\n",
    "])\n",
    "\n",
    "# Pipeline model untuk Naive Bayes (GaussianNB)\n",
    "pipe_nb = Pipeline([\n",
    "    ('transformer', transformer),  # Ganti dengan transformer Anda\n",
    "    ('model', nb_model)\n",
    "])\n",
    "\n",
    "# Pipeline model untuk AdaBoost\n",
    "pipe_ada = Pipeline([\n",
    "    ('transformer', transformer),  # Ganti dengan transformer Anda\n",
    "    ('model', ada_model)\n",
    "])"
   ]
  },
  {
   "cell_type": "markdown",
   "metadata": {},
   "source": [
    "# vii. Model Training"
   ]
  },
  {
   "cell_type": "markdown",
   "metadata": {},
   "source": [
    "Pelatihan model (model training) ini hanya berisi code untuk melatih model dan output yang dihasilkan. Pelatihan model ini adalah langkah kunci dalam membangun model-machine learning yang efektif, karena model tersebut belajar dari data pelatihan untuk membuat prediksi yang sesuai."
   ]
  },
  {
   "cell_type": "markdown",
   "metadata": {},
   "source": [
    "## a. Cross Validation\n"
   ]
  },
  {
   "cell_type": "markdown",
   "metadata": {},
   "source": [
    " Digunakan untuk mengevaluasi kinerja model secara objektif dan meminimalkan risiko overfitting. Ini melibatkan pembagian data menjadi set pelatihan dan pengujian yang berbeda-beda untuk mengukur sejauh mana model mampu menggeneralisasi pada data yang belum pernah dilihat sebelumnya."
   ]
  },
  {
   "cell_type": "code",
   "execution_count": 38,
   "metadata": {},
   "outputs": [],
   "source": [
    "# define skfold\n",
    "skfold=StratifiedKFold(n_splits=5)"
   ]
  },
  {
   "cell_type": "code",
   "execution_count": 39,
   "metadata": {},
   "outputs": [],
   "source": [
    "# Define Cross Validation untuk setiap model\n",
    "cv_log_model = cross_val_score(pipe_logreg, X_train, y_train, cv = skfold, scoring = 'recall')\n",
    "cv_svm_model = cross_val_score(pipe_svm, X_train, y_train, cv = skfold, scoring = 'recall')\n",
    "cv_dt_model = cross_val_score(pipe_dt, X_train, y_train, cv = skfold, scoring = 'recall')\n",
    "cv_rf_model = cross_val_score(pipe_rf, X_train, y_train, cv = skfold, scoring = 'recall')\n",
    "cv_knn_model = cross_val_score(pipe_knn, X_train, y_train, cv = skfold, scoring = 'recall')\n",
    "cv_nb_model = cross_val_score(pipe_nb, X_train, y_train, cv = skfold, scoring = 'recall')\n",
    "cv_ada_model = cross_val_score(pipe_ada, X_train, y_train, cv = skfold, scoring = 'recall')"
   ]
  },
  {
   "cell_type": "code",
   "execution_count": 40,
   "metadata": {},
   "outputs": [
    {
     "name": "stdout",
     "output_type": "stream",
     "text": [
      "log_model\n",
      "recall - All - Cross Validation : [0.54491018 0.50299401 0.48502994 0.50898204 0.56024096]\n",
      "recall - Mean - Cross Validation : 0.5204314263040184\n",
      "recall - Std - Cross Validation : 0.027829573577237154\n",
      "recall - Range of Test Set : 0.49260185272678125 - 0.5482609998812555\n",
      "--------------------------------------------------\n",
      "svm_model\n",
      "recall - All - Cross Validation : [0.53892216 0.50299401 0.49700599 0.49101796 0.54216867]\n",
      "recall - Mean - Cross Validation : 0.5144217588918549\n",
      "recall - Std - Cross Validation : 0.021687788575454756\n",
      "recall - Range of Test Set : 0.49273397031640015 - 0.5361095474673097\n",
      "--------------------------------------------------\n",
      "dt_model\n",
      "recall - All - Cross Validation : [0.56287425 0.46706587 0.49101796 0.44311377 0.54216867]\n",
      "recall - Mean - Cross Validation : 0.501248106197244\n",
      "recall - Std - Cross Validation : 0.044999903708137515\n",
      "recall - Range of Test Set : 0.4562482024891065 - 0.5462480099053816\n",
      "--------------------------------------------------\n",
      "rf_model\n",
      "recall - All - Cross Validation : [0.58083832 0.54491018 0.54491018 0.52694611 0.55421687]\n",
      "recall - Mean - Cross Validation : 0.5503643315778083\n",
      "recall - Std - Cross Validation : 0.017614851460483267\n",
      "recall - Range of Test Set : 0.532749480117325 - 0.5679791830382915\n",
      "--------------------------------------------------\n",
      "knn_model\n",
      "recall - All - Cross Validation : [0.60479042 0.52095808 0.54491018 0.56886228 0.59638554]\n",
      "recall - Mean - Cross Validation : 0.5671813000505014\n",
      "recall - Std - Cross Validation : 0.03131372797405167\n",
      "recall - Range of Test Set : 0.5358675720764497 - 0.598495028024553\n",
      "--------------------------------------------------\n",
      "nb_model\n",
      "recall - All - Cross Validation : [0.4251497  0.32934132 0.34131737 0.19161677 0.34939759]\n",
      "recall - Mean - Cross Validation : 0.3273645480124089\n",
      "recall - Std - Cross Validation : 0.07572772272089527\n",
      "recall - Range of Test Set : 0.2516368252915136 - 0.40309227073330417\n",
      "--------------------------------------------------\n",
      "ada_model\n",
      "recall - All - Cross Validation : [0.56287425 0.52694611 0.53892216 0.5508982  0.56024096]\n",
      "recall - Mean - Cross Validation : 0.5479763364836592\n",
      "recall - Std - Cross Validation : 0.013454775900977997\n",
      "recall - Range of Test Set : 0.5345215605826812 - 0.5614311123846372\n",
      "--------------------------------------------------\n",
      "Best Model : knn_model\n",
      "Cross Val mean From Best Model : 0.5671813000505014\n"
     ]
    }
   ],
   "source": [
    "# Finding Best model based on cros_val_score (mean)\n",
    "name_model = []\n",
    "cv_scores = 0\n",
    "for cv,name in zip ([cv_log_model, cv_svm_model, cv_dt_model, cv_rf_model, cv_knn_model, cv_nb_model, cv_ada_model], \n",
    "                    ['log_model', 'svm_model', 'dt_model', 'rf_model', 'knn_model', 'nb_model', 'ada_model']):\n",
    "    print(name)\n",
    "    print('recall - All - Cross Validation :', cv)\n",
    "    print('recall - Mean - Cross Validation :', cv.mean())\n",
    "    print('recall - Std - Cross Validation :', cv.std())\n",
    "    print('recall - Range of Test Set :', (cv.mean()-cv.std()), '-', (cv.mean()+cv.std()))\n",
    "    print('-'*50)\n",
    "\n",
    "    if cv.mean()>cv_scores:\n",
    "        cv_scores = cv.mean()\n",
    "        name_model = name\n",
    "    else :\n",
    "        pass\n",
    "    \n",
    "print('Best Model :', name_model)\n",
    "print('Cross Val mean From Best Model :', cv_scores)"
   ]
  },
  {
   "cell_type": "markdown",
   "metadata": {},
   "source": [
    "Model terbaik pada project ini adalah knn_model."
   ]
  },
  {
   "cell_type": "markdown",
   "metadata": {},
   "source": [
    "# b. Baseline Model"
   ]
  },
  {
   "cell_type": "markdown",
   "metadata": {},
   "source": [
    "Model sederhana yang digunakan sebagai dasar perbandingan atau acuan dalam pengembangan model machine learning yang lebih kompleks. Setelah mendapatakan model terbaik maka kita gunakan."
   ]
  },
  {
   "cell_type": "code",
   "execution_count": 41,
   "metadata": {},
   "outputs": [
    {
     "data": {
      "text/html": [
       "<style>#sk-container-id-2 {color: black;}#sk-container-id-2 pre{padding: 0;}#sk-container-id-2 div.sk-toggleable {background-color: white;}#sk-container-id-2 label.sk-toggleable__label {cursor: pointer;display: block;width: 100%;margin-bottom: 0;padding: 0.3em;box-sizing: border-box;text-align: center;}#sk-container-id-2 label.sk-toggleable__label-arrow:before {content: \"▸\";float: left;margin-right: 0.25em;color: #696969;}#sk-container-id-2 label.sk-toggleable__label-arrow:hover:before {color: black;}#sk-container-id-2 div.sk-estimator:hover label.sk-toggleable__label-arrow:before {color: black;}#sk-container-id-2 div.sk-toggleable__content {max-height: 0;max-width: 0;overflow: hidden;text-align: left;background-color: #f0f8ff;}#sk-container-id-2 div.sk-toggleable__content pre {margin: 0.2em;color: black;border-radius: 0.25em;background-color: #f0f8ff;}#sk-container-id-2 input.sk-toggleable__control:checked~div.sk-toggleable__content {max-height: 200px;max-width: 100%;overflow: auto;}#sk-container-id-2 input.sk-toggleable__control:checked~label.sk-toggleable__label-arrow:before {content: \"▾\";}#sk-container-id-2 div.sk-estimator input.sk-toggleable__control:checked~label.sk-toggleable__label {background-color: #d4ebff;}#sk-container-id-2 div.sk-label input.sk-toggleable__control:checked~label.sk-toggleable__label {background-color: #d4ebff;}#sk-container-id-2 input.sk-hidden--visually {border: 0;clip: rect(1px 1px 1px 1px);clip: rect(1px, 1px, 1px, 1px);height: 1px;margin: -1px;overflow: hidden;padding: 0;position: absolute;width: 1px;}#sk-container-id-2 div.sk-estimator {font-family: monospace;background-color: #f0f8ff;border: 1px dotted black;border-radius: 0.25em;box-sizing: border-box;margin-bottom: 0.5em;}#sk-container-id-2 div.sk-estimator:hover {background-color: #d4ebff;}#sk-container-id-2 div.sk-parallel-item::after {content: \"\";width: 100%;border-bottom: 1px solid gray;flex-grow: 1;}#sk-container-id-2 div.sk-label:hover label.sk-toggleable__label {background-color: #d4ebff;}#sk-container-id-2 div.sk-serial::before {content: \"\";position: absolute;border-left: 1px solid gray;box-sizing: border-box;top: 0;bottom: 0;left: 50%;z-index: 0;}#sk-container-id-2 div.sk-serial {display: flex;flex-direction: column;align-items: center;background-color: white;padding-right: 0.2em;padding-left: 0.2em;position: relative;}#sk-container-id-2 div.sk-item {position: relative;z-index: 1;}#sk-container-id-2 div.sk-parallel {display: flex;align-items: stretch;justify-content: center;background-color: white;position: relative;}#sk-container-id-2 div.sk-item::before, #sk-container-id-2 div.sk-parallel-item::before {content: \"\";position: absolute;border-left: 1px solid gray;box-sizing: border-box;top: 0;bottom: 0;left: 50%;z-index: -1;}#sk-container-id-2 div.sk-parallel-item {display: flex;flex-direction: column;z-index: 1;position: relative;background-color: white;}#sk-container-id-2 div.sk-parallel-item:first-child::after {align-self: flex-end;width: 50%;}#sk-container-id-2 div.sk-parallel-item:last-child::after {align-self: flex-start;width: 50%;}#sk-container-id-2 div.sk-parallel-item:only-child::after {width: 0;}#sk-container-id-2 div.sk-dashed-wrapped {border: 1px dashed gray;margin: 0 0.4em 0.5em 0.4em;box-sizing: border-box;padding-bottom: 0.4em;background-color: white;}#sk-container-id-2 div.sk-label label {font-family: monospace;font-weight: bold;display: inline-block;line-height: 1.2em;}#sk-container-id-2 div.sk-label-container {text-align: center;}#sk-container-id-2 div.sk-container {/* jupyter's `normalize.less` sets `[hidden] { display: none; }` but bootstrap.min.css set `[hidden] { display: none !important; }` so we also need the `!important` here to be able to override the default hidden behavior on the sphinx rendered scikit-learn.org. See: https://github.com/scikit-learn/scikit-learn/issues/21755 */display: inline-block !important;position: relative;}#sk-container-id-2 div.sk-text-repr-fallback {display: none;}</style><div id=\"sk-container-id-2\" class=\"sk-top-container\"><div class=\"sk-text-repr-fallback\"><pre>Pipeline(steps=[(&#x27;transformer&#x27;,\n",
       "                 ColumnTransformer(transformers=[(&#x27;scaler&#x27;, MinMaxScaler(),\n",
       "                                                  [&#x27;Age&#x27;]),\n",
       "                                                 (&#x27;encoder&#x27;,\n",
       "                                                  OneHotEncoder(handle_unknown=&#x27;ignore&#x27;),\n",
       "                                                  [&#x27;JoiningYear&#x27;, &#x27;City&#x27;,\n",
       "                                                   &#x27;Gender&#x27;]),\n",
       "                                                 (&#x27;passthrough&#x27;, &#x27;passthrough&#x27;,\n",
       "                                                  [&#x27;PaymentTier&#x27;])])),\n",
       "                (&#x27;model&#x27;, KNeighborsClassifier())])</pre><b>In a Jupyter environment, please rerun this cell to show the HTML representation or trust the notebook. <br />On GitHub, the HTML representation is unable to render, please try loading this page with nbviewer.org.</b></div><div class=\"sk-container\" hidden><div class=\"sk-item sk-dashed-wrapped\"><div class=\"sk-label-container\"><div class=\"sk-label sk-toggleable\"><input class=\"sk-toggleable__control sk-hidden--visually\" id=\"sk-estimator-id-8\" type=\"checkbox\" ><label for=\"sk-estimator-id-8\" class=\"sk-toggleable__label sk-toggleable__label-arrow\">Pipeline</label><div class=\"sk-toggleable__content\"><pre>Pipeline(steps=[(&#x27;transformer&#x27;,\n",
       "                 ColumnTransformer(transformers=[(&#x27;scaler&#x27;, MinMaxScaler(),\n",
       "                                                  [&#x27;Age&#x27;]),\n",
       "                                                 (&#x27;encoder&#x27;,\n",
       "                                                  OneHotEncoder(handle_unknown=&#x27;ignore&#x27;),\n",
       "                                                  [&#x27;JoiningYear&#x27;, &#x27;City&#x27;,\n",
       "                                                   &#x27;Gender&#x27;]),\n",
       "                                                 (&#x27;passthrough&#x27;, &#x27;passthrough&#x27;,\n",
       "                                                  [&#x27;PaymentTier&#x27;])])),\n",
       "                (&#x27;model&#x27;, KNeighborsClassifier())])</pre></div></div></div><div class=\"sk-serial\"><div class=\"sk-item sk-dashed-wrapped\"><div class=\"sk-label-container\"><div class=\"sk-label sk-toggleable\"><input class=\"sk-toggleable__control sk-hidden--visually\" id=\"sk-estimator-id-9\" type=\"checkbox\" ><label for=\"sk-estimator-id-9\" class=\"sk-toggleable__label sk-toggleable__label-arrow\">transformer: ColumnTransformer</label><div class=\"sk-toggleable__content\"><pre>ColumnTransformer(transformers=[(&#x27;scaler&#x27;, MinMaxScaler(), [&#x27;Age&#x27;]),\n",
       "                                (&#x27;encoder&#x27;,\n",
       "                                 OneHotEncoder(handle_unknown=&#x27;ignore&#x27;),\n",
       "                                 [&#x27;JoiningYear&#x27;, &#x27;City&#x27;, &#x27;Gender&#x27;]),\n",
       "                                (&#x27;passthrough&#x27;, &#x27;passthrough&#x27;,\n",
       "                                 [&#x27;PaymentTier&#x27;])])</pre></div></div></div><div class=\"sk-parallel\"><div class=\"sk-parallel-item\"><div class=\"sk-item\"><div class=\"sk-label-container\"><div class=\"sk-label sk-toggleable\"><input class=\"sk-toggleable__control sk-hidden--visually\" id=\"sk-estimator-id-10\" type=\"checkbox\" ><label for=\"sk-estimator-id-10\" class=\"sk-toggleable__label sk-toggleable__label-arrow\">scaler</label><div class=\"sk-toggleable__content\"><pre>[&#x27;Age&#x27;]</pre></div></div></div><div class=\"sk-serial\"><div class=\"sk-item\"><div class=\"sk-estimator sk-toggleable\"><input class=\"sk-toggleable__control sk-hidden--visually\" id=\"sk-estimator-id-11\" type=\"checkbox\" ><label for=\"sk-estimator-id-11\" class=\"sk-toggleable__label sk-toggleable__label-arrow\">MinMaxScaler</label><div class=\"sk-toggleable__content\"><pre>MinMaxScaler()</pre></div></div></div></div></div></div><div class=\"sk-parallel-item\"><div class=\"sk-item\"><div class=\"sk-label-container\"><div class=\"sk-label sk-toggleable\"><input class=\"sk-toggleable__control sk-hidden--visually\" id=\"sk-estimator-id-12\" type=\"checkbox\" ><label for=\"sk-estimator-id-12\" class=\"sk-toggleable__label sk-toggleable__label-arrow\">encoder</label><div class=\"sk-toggleable__content\"><pre>[&#x27;JoiningYear&#x27;, &#x27;City&#x27;, &#x27;Gender&#x27;]</pre></div></div></div><div class=\"sk-serial\"><div class=\"sk-item\"><div class=\"sk-estimator sk-toggleable\"><input class=\"sk-toggleable__control sk-hidden--visually\" id=\"sk-estimator-id-13\" type=\"checkbox\" ><label for=\"sk-estimator-id-13\" class=\"sk-toggleable__label sk-toggleable__label-arrow\">OneHotEncoder</label><div class=\"sk-toggleable__content\"><pre>OneHotEncoder(handle_unknown=&#x27;ignore&#x27;)</pre></div></div></div></div></div></div><div class=\"sk-parallel-item\"><div class=\"sk-item\"><div class=\"sk-label-container\"><div class=\"sk-label sk-toggleable\"><input class=\"sk-toggleable__control sk-hidden--visually\" id=\"sk-estimator-id-14\" type=\"checkbox\" ><label for=\"sk-estimator-id-14\" class=\"sk-toggleable__label sk-toggleable__label-arrow\">passthrough</label><div class=\"sk-toggleable__content\"><pre>[&#x27;PaymentTier&#x27;]</pre></div></div></div><div class=\"sk-serial\"><div class=\"sk-item\"><div class=\"sk-estimator sk-toggleable\"><input class=\"sk-toggleable__control sk-hidden--visually\" id=\"sk-estimator-id-15\" type=\"checkbox\" ><label for=\"sk-estimator-id-15\" class=\"sk-toggleable__label sk-toggleable__label-arrow\">passthrough</label><div class=\"sk-toggleable__content\"><pre>passthrough</pre></div></div></div></div></div></div></div></div><div class=\"sk-item\"><div class=\"sk-estimator sk-toggleable\"><input class=\"sk-toggleable__control sk-hidden--visually\" id=\"sk-estimator-id-16\" type=\"checkbox\" ><label for=\"sk-estimator-id-16\" class=\"sk-toggleable__label sk-toggleable__label-arrow\">KNeighborsClassifier</label><div class=\"sk-toggleable__content\"><pre>KNeighborsClassifier()</pre></div></div></div></div></div></div></div>"
      ],
      "text/plain": [
       "Pipeline(steps=[('transformer',\n",
       "                 ColumnTransformer(transformers=[('scaler', MinMaxScaler(),\n",
       "                                                  ['Age']),\n",
       "                                                 ('encoder',\n",
       "                                                  OneHotEncoder(handle_unknown='ignore'),\n",
       "                                                  ['JoiningYear', 'City',\n",
       "                                                   'Gender']),\n",
       "                                                 ('passthrough', 'passthrough',\n",
       "                                                  ['PaymentTier'])])),\n",
       "                ('model', KNeighborsClassifier())])"
      ]
     },
     "execution_count": 41,
     "metadata": {},
     "output_type": "execute_result"
    }
   ],
   "source": [
    "# Baseline Model menggunakan Random Forest Algorithm\n",
    "pipe_knn.fit(X_train, y_train)"
   ]
  },
  {
   "cell_type": "code",
   "execution_count": 42,
   "metadata": {},
   "outputs": [
    {
     "name": "stdout",
     "output_type": "stream",
     "text": [
      "Recall Score - test Set  :  0.5708661417322834 \n",
      "\n",
      "Classification Report : \n",
      "               precision    recall  f1-score   support\n",
      "\n",
      "           0       0.76      0.79      0.77       437\n",
      "           1       0.61      0.57      0.59       254\n",
      "\n",
      "    accuracy                           0.71       691\n",
      "   macro avg       0.68      0.68      0.68       691\n",
      "weighted avg       0.70      0.71      0.71       691\n",
      " \n",
      "\n",
      "Confusion Matrix      : \n",
      " <sklearn.metrics._plot.confusion_matrix.ConfusionMatrixDisplay object at 0x000001E7A2AE9CD0>\n"
     ]
    },
    {
     "data": {
      "image/png": "[encoded data removed]",
      "text/plain": [
       "<Figure size 640x480 with 2 Axes>"
      ]
     },
     "metadata": {},
     "output_type": "display_data"
    }
   ],
   "source": [
    "# Check Performance Model against test-Set\n",
    "y_pred_test = pipe_knn.predict(X_test)\n",
    "\n",
    "print('Recall Score - test Set  : ', recall_score(y_test, y_pred_test), '\\n')\n",
    "print('Classification Report : \\n', classification_report(y_test, y_pred_test), '\\n')\n",
    "print('Confusion Matrix      : \\n', ConfusionMatrixDisplay.from_estimator(pipe_knn.fit(X_test, y_test)\n",
    ", X_test, y_test, cmap='Reds'))"
   ]
  },
  {
   "cell_type": "markdown",
   "metadata": {},
   "source": [
    "Hasil recall sebesar 0.57 berarti bahwa model ini mampu mengidentifikasi sekitar 57% dari semua instance positif yang sebenarnya (true positives) dalam data pengujian. Dengan kata lain, sekitar 57% dari semua sampel yang sebenarnya termasuk dalam kategori positif telah ditemukan oleh model ini."
   ]
  },
  {
   "cell_type": "markdown",
   "metadata": {},
   "source": [
    "# c. Hyper Parameter Tuning"
   ]
  },
  {
   "cell_type": "markdown",
   "metadata": {},
   "source": [
    "Hyperparameter dari model knn dilakukan dengan grid search dengan Keunggulan nya yaitu kemampuannya untuk secara eksploratif mencari kombinasi parameter optimal secara sistematis, memungkinkan identifikasi model terbaik dalam ruang parameter yang telah ditentukan."
   ]
  },
  {
   "cell_type": "code",
   "execution_count": 43,
   "metadata": {},
   "outputs": [
    {
     "data": {
      "text/plain": [
       "{'model__n_neighbors': [3, 5, 7, 9],\n",
       " 'model__weights': ['uniform', 'distance'],\n",
       " 'model__p': [1, 2]}"
      ]
     },
     "execution_count": 43,
     "metadata": {},
     "output_type": "execute_result"
    }
   ],
   "source": [
    "# Define Hyperparameters for KNN\n",
    "param_grid = {\n",
    "    'model__n_neighbors': [3, 5, 7, 9],  # Number of neighbors to consider\n",
    "    'model__weights': ['uniform', 'distance'],  # Weighting method for neighbors\n",
    "    'model__p': [1, 2]  # Distance metric (1 for Manhattan, 2 for Euclidean)\n",
    "}\n",
    "param_grid"
   ]
  },
  {
   "cell_type": "markdown",
   "metadata": {},
   "source": [
    "Didapatkan kombinasi terbaik."
   ]
  },
  {
   "cell_type": "code",
   "execution_count": 44,
   "metadata": {},
   "outputs": [
    {
     "data": {
      "text/html": [
       "<style>#sk-container-id-3 {color: black;}#sk-container-id-3 pre{padding: 0;}#sk-container-id-3 div.sk-toggleable {background-color: white;}#sk-container-id-3 label.sk-toggleable__label {cursor: pointer;display: block;width: 100%;margin-bottom: 0;padding: 0.3em;box-sizing: border-box;text-align: center;}#sk-container-id-3 label.sk-toggleable__label-arrow:before {content: \"▸\";float: left;margin-right: 0.25em;color: #696969;}#sk-container-id-3 label.sk-toggleable__label-arrow:hover:before {color: black;}#sk-container-id-3 div.sk-estimator:hover label.sk-toggleable__label-arrow:before {color: black;}#sk-container-id-3 div.sk-toggleable__content {max-height: 0;max-width: 0;overflow: hidden;text-align: left;background-color: #f0f8ff;}#sk-container-id-3 div.sk-toggleable__content pre {margin: 0.2em;color: black;border-radius: 0.25em;background-color: #f0f8ff;}#sk-container-id-3 input.sk-toggleable__control:checked~div.sk-toggleable__content {max-height: 200px;max-width: 100%;overflow: auto;}#sk-container-id-3 input.sk-toggleable__control:checked~label.sk-toggleable__label-arrow:before {content: \"▾\";}#sk-container-id-3 div.sk-estimator input.sk-toggleable__control:checked~label.sk-toggleable__label {background-color: #d4ebff;}#sk-container-id-3 div.sk-label input.sk-toggleable__control:checked~label.sk-toggleable__label {background-color: #d4ebff;}#sk-container-id-3 input.sk-hidden--visually {border: 0;clip: rect(1px 1px 1px 1px);clip: rect(1px, 1px, 1px, 1px);height: 1px;margin: -1px;overflow: hidden;padding: 0;position: absolute;width: 1px;}#sk-container-id-3 div.sk-estimator {font-family: monospace;background-color: #f0f8ff;border: 1px dotted black;border-radius: 0.25em;box-sizing: border-box;margin-bottom: 0.5em;}#sk-container-id-3 div.sk-estimator:hover {background-color: #d4ebff;}#sk-container-id-3 div.sk-parallel-item::after {content: \"\";width: 100%;border-bottom: 1px solid gray;flex-grow: 1;}#sk-container-id-3 div.sk-label:hover label.sk-toggleable__label {background-color: #d4ebff;}#sk-container-id-3 div.sk-serial::before {content: \"\";position: absolute;border-left: 1px solid gray;box-sizing: border-box;top: 0;bottom: 0;left: 50%;z-index: 0;}#sk-container-id-3 div.sk-serial {display: flex;flex-direction: column;align-items: center;background-color: white;padding-right: 0.2em;padding-left: 0.2em;position: relative;}#sk-container-id-3 div.sk-item {position: relative;z-index: 1;}#sk-container-id-3 div.sk-parallel {display: flex;align-items: stretch;justify-content: center;background-color: white;position: relative;}#sk-container-id-3 div.sk-item::before, #sk-container-id-3 div.sk-parallel-item::before {content: \"\";position: absolute;border-left: 1px solid gray;box-sizing: border-box;top: 0;bottom: 0;left: 50%;z-index: -1;}#sk-container-id-3 div.sk-parallel-item {display: flex;flex-direction: column;z-index: 1;position: relative;background-color: white;}#sk-container-id-3 div.sk-parallel-item:first-child::after {align-self: flex-end;width: 50%;}#sk-container-id-3 div.sk-parallel-item:last-child::after {align-self: flex-start;width: 50%;}#sk-container-id-3 div.sk-parallel-item:only-child::after {width: 0;}#sk-container-id-3 div.sk-dashed-wrapped {border: 1px dashed gray;margin: 0 0.4em 0.5em 0.4em;box-sizing: border-box;padding-bottom: 0.4em;background-color: white;}#sk-container-id-3 div.sk-label label {font-family: monospace;font-weight: bold;display: inline-block;line-height: 1.2em;}#sk-container-id-3 div.sk-label-container {text-align: center;}#sk-container-id-3 div.sk-container {/* jupyter's `normalize.less` sets `[hidden] { display: none; }` but bootstrap.min.css set `[hidden] { display: none !important; }` so we also need the `!important` here to be able to override the default hidden behavior on the sphinx rendered scikit-learn.org. See: https://github.com/scikit-learn/scikit-learn/issues/21755 */display: inline-block !important;position: relative;}#sk-container-id-3 div.sk-text-repr-fallback {display: none;}</style><div id=\"sk-container-id-3\" class=\"sk-top-container\"><div class=\"sk-text-repr-fallback\"><pre>GridSearchCV(cv=5,\n",
       "             estimator=Pipeline(steps=[(&#x27;transformer&#x27;,\n",
       "                                        ColumnTransformer(transformers=[(&#x27;scaler&#x27;,\n",
       "                                                                         MinMaxScaler(),\n",
       "                                                                         [&#x27;Age&#x27;]),\n",
       "                                                                        (&#x27;encoder&#x27;,\n",
       "                                                                         OneHotEncoder(handle_unknown=&#x27;ignore&#x27;),\n",
       "                                                                         [&#x27;JoiningYear&#x27;,\n",
       "                                                                          &#x27;City&#x27;,\n",
       "                                                                          &#x27;Gender&#x27;]),\n",
       "                                                                        (&#x27;passthrough&#x27;,\n",
       "                                                                         &#x27;passthrough&#x27;,\n",
       "                                                                         [&#x27;PaymentTier&#x27;])])),\n",
       "                                       (&#x27;model&#x27;, KNeighborsClassifier())]),\n",
       "             n_jobs=-1,\n",
       "             param_grid={&#x27;model__n_neighbors&#x27;: [3, 5, 7, 9], &#x27;model__p&#x27;: [1, 2],\n",
       "                         &#x27;model__weights&#x27;: [&#x27;uniform&#x27;, &#x27;distance&#x27;]},\n",
       "             scoring=&#x27;recall&#x27;)</pre><b>In a Jupyter environment, please rerun this cell to show the HTML representation or trust the notebook. <br />On GitHub, the HTML representation is unable to render, please try loading this page with nbviewer.org.</b></div><div class=\"sk-container\" hidden><div class=\"sk-item sk-dashed-wrapped\"><div class=\"sk-label-container\"><div class=\"sk-label sk-toggleable\"><input class=\"sk-toggleable__control sk-hidden--visually\" id=\"sk-estimator-id-17\" type=\"checkbox\" ><label for=\"sk-estimator-id-17\" class=\"sk-toggleable__label sk-toggleable__label-arrow\">GridSearchCV</label><div class=\"sk-toggleable__content\"><pre>GridSearchCV(cv=5,\n",
       "             estimator=Pipeline(steps=[(&#x27;transformer&#x27;,\n",
       "                                        ColumnTransformer(transformers=[(&#x27;scaler&#x27;,\n",
       "                                                                         MinMaxScaler(),\n",
       "                                                                         [&#x27;Age&#x27;]),\n",
       "                                                                        (&#x27;encoder&#x27;,\n",
       "                                                                         OneHotEncoder(handle_unknown=&#x27;ignore&#x27;),\n",
       "                                                                         [&#x27;JoiningYear&#x27;,\n",
       "                                                                          &#x27;City&#x27;,\n",
       "                                                                          &#x27;Gender&#x27;]),\n",
       "                                                                        (&#x27;passthrough&#x27;,\n",
       "                                                                         &#x27;passthrough&#x27;,\n",
       "                                                                         [&#x27;PaymentTier&#x27;])])),\n",
       "                                       (&#x27;model&#x27;, KNeighborsClassifier())]),\n",
       "             n_jobs=-1,\n",
       "             param_grid={&#x27;model__n_neighbors&#x27;: [3, 5, 7, 9], &#x27;model__p&#x27;: [1, 2],\n",
       "                         &#x27;model__weights&#x27;: [&#x27;uniform&#x27;, &#x27;distance&#x27;]},\n",
       "             scoring=&#x27;recall&#x27;)</pre></div></div></div><div class=\"sk-parallel\"><div class=\"sk-parallel-item\"><div class=\"sk-item\"><div class=\"sk-label-container\"><div class=\"sk-label sk-toggleable\"><input class=\"sk-toggleable__control sk-hidden--visually\" id=\"sk-estimator-id-18\" type=\"checkbox\" ><label for=\"sk-estimator-id-18\" class=\"sk-toggleable__label sk-toggleable__label-arrow\">estimator: Pipeline</label><div class=\"sk-toggleable__content\"><pre>Pipeline(steps=[(&#x27;transformer&#x27;,\n",
       "                 ColumnTransformer(transformers=[(&#x27;scaler&#x27;, MinMaxScaler(),\n",
       "                                                  [&#x27;Age&#x27;]),\n",
       "                                                 (&#x27;encoder&#x27;,\n",
       "                                                  OneHotEncoder(handle_unknown=&#x27;ignore&#x27;),\n",
       "                                                  [&#x27;JoiningYear&#x27;, &#x27;City&#x27;,\n",
       "                                                   &#x27;Gender&#x27;]),\n",
       "                                                 (&#x27;passthrough&#x27;, &#x27;passthrough&#x27;,\n",
       "                                                  [&#x27;PaymentTier&#x27;])])),\n",
       "                (&#x27;model&#x27;, KNeighborsClassifier())])</pre></div></div></div><div class=\"sk-serial\"><div class=\"sk-item\"><div class=\"sk-serial\"><div class=\"sk-item sk-dashed-wrapped\"><div class=\"sk-label-container\"><div class=\"sk-label sk-toggleable\"><input class=\"sk-toggleable__control sk-hidden--visually\" id=\"sk-estimator-id-19\" type=\"checkbox\" ><label for=\"sk-estimator-id-19\" class=\"sk-toggleable__label sk-toggleable__label-arrow\">transformer: ColumnTransformer</label><div class=\"sk-toggleable__content\"><pre>ColumnTransformer(transformers=[(&#x27;scaler&#x27;, MinMaxScaler(), [&#x27;Age&#x27;]),\n",
       "                                (&#x27;encoder&#x27;,\n",
       "                                 OneHotEncoder(handle_unknown=&#x27;ignore&#x27;),\n",
       "                                 [&#x27;JoiningYear&#x27;, &#x27;City&#x27;, &#x27;Gender&#x27;]),\n",
       "                                (&#x27;passthrough&#x27;, &#x27;passthrough&#x27;,\n",
       "                                 [&#x27;PaymentTier&#x27;])])</pre></div></div></div><div class=\"sk-parallel\"><div class=\"sk-parallel-item\"><div class=\"sk-item\"><div class=\"sk-label-container\"><div class=\"sk-label sk-toggleable\"><input class=\"sk-toggleable__control sk-hidden--visually\" id=\"sk-estimator-id-20\" type=\"checkbox\" ><label for=\"sk-estimator-id-20\" class=\"sk-toggleable__label sk-toggleable__label-arrow\">scaler</label><div class=\"sk-toggleable__content\"><pre>[&#x27;Age&#x27;]</pre></div></div></div><div class=\"sk-serial\"><div class=\"sk-item\"><div class=\"sk-estimator sk-toggleable\"><input class=\"sk-toggleable__control sk-hidden--visually\" id=\"sk-estimator-id-21\" type=\"checkbox\" ><label for=\"sk-estimator-id-21\" class=\"sk-toggleable__label sk-toggleable__label-arrow\">MinMaxScaler</label><div class=\"sk-toggleable__content\"><pre>MinMaxScaler()</pre></div></div></div></div></div></div><div class=\"sk-parallel-item\"><div class=\"sk-item\"><div class=\"sk-label-container\"><div class=\"sk-label sk-toggleable\"><input class=\"sk-toggleable__control sk-hidden--visually\" id=\"sk-estimator-id-22\" type=\"checkbox\" ><label for=\"sk-estimator-id-22\" class=\"sk-toggleable__label sk-toggleable__label-arrow\">encoder</label><div class=\"sk-toggleable__content\"><pre>[&#x27;JoiningYear&#x27;, &#x27;City&#x27;, &#x27;Gender&#x27;]</pre></div></div></div><div class=\"sk-serial\"><div class=\"sk-item\"><div class=\"sk-estimator sk-toggleable\"><input class=\"sk-toggleable__control sk-hidden--visually\" id=\"sk-estimator-id-23\" type=\"checkbox\" ><label for=\"sk-estimator-id-23\" class=\"sk-toggleable__label sk-toggleable__label-arrow\">OneHotEncoder</label><div class=\"sk-toggleable__content\"><pre>OneHotEncoder(handle_unknown=&#x27;ignore&#x27;)</pre></div></div></div></div></div></div><div class=\"sk-parallel-item\"><div class=\"sk-item\"><div class=\"sk-label-container\"><div class=\"sk-label sk-toggleable\"><input class=\"sk-toggleable__control sk-hidden--visually\" id=\"sk-estimator-id-24\" type=\"checkbox\" ><label for=\"sk-estimator-id-24\" class=\"sk-toggleable__label sk-toggleable__label-arrow\">passthrough</label><div class=\"sk-toggleable__content\"><pre>[&#x27;PaymentTier&#x27;]</pre></div></div></div><div class=\"sk-serial\"><div class=\"sk-item\"><div class=\"sk-estimator sk-toggleable\"><input class=\"sk-toggleable__control sk-hidden--visually\" id=\"sk-estimator-id-25\" type=\"checkbox\" ><label for=\"sk-estimator-id-25\" class=\"sk-toggleable__label sk-toggleable__label-arrow\">passthrough</label><div class=\"sk-toggleable__content\"><pre>passthrough</pre></div></div></div></div></div></div></div></div><div class=\"sk-item\"><div class=\"sk-estimator sk-toggleable\"><input class=\"sk-toggleable__control sk-hidden--visually\" id=\"sk-estimator-id-26\" type=\"checkbox\" ><label for=\"sk-estimator-id-26\" class=\"sk-toggleable__label sk-toggleable__label-arrow\">KNeighborsClassifier</label><div class=\"sk-toggleable__content\"><pre>KNeighborsClassifier()</pre></div></div></div></div></div></div></div></div></div></div></div></div>"
      ],
      "text/plain": [
       "GridSearchCV(cv=5,\n",
       "             estimator=Pipeline(steps=[('transformer',\n",
       "                                        ColumnTransformer(transformers=[('scaler',\n",
       "                                                                         MinMaxScaler(),\n",
       "                                                                         ['Age']),\n",
       "                                                                        ('encoder',\n",
       "                                                                         OneHotEncoder(handle_unknown='ignore'),\n",
       "                                                                         ['JoiningYear',\n",
       "                                                                          'City',\n",
       "                                                                          'Gender']),\n",
       "                                                                        ('passthrough',\n",
       "                                                                         'passthrough',\n",
       "                                                                         ['PaymentTier'])])),\n",
       "                                       ('model', KNeighborsClassifier())]),\n",
       "             n_jobs=-1,\n",
       "             param_grid={'model__n_neighbors': [3, 5, 7, 9], 'model__p': [1, 2],\n",
       "                         'model__weights': ['uniform', 'distance']},\n",
       "             scoring='recall')"
      ]
     },
     "execution_count": 44,
     "metadata": {},
     "output_type": "execute_result"
    }
   ],
   "source": [
    "# Train with Random Search\n",
    "knn_grid = GridSearchCV(estimator=pipe_knn,\n",
    "                                 param_grid=param_grid,\n",
    "                                 cv=5,\n",
    "                                 n_jobs=-1,\n",
    "                                 scoring='recall')\n",
    "knn_grid.fit(X_train, y_train)"
   ]
  },
  {
   "cell_type": "markdown",
   "metadata": {},
   "source": [
    "Cek parameter terbaik"
   ]
  },
  {
   "cell_type": "code",
   "execution_count": 45,
   "metadata": {},
   "outputs": [
    {
     "data": {
      "text/plain": [
       "{'model__n_neighbors': 5, 'model__p': 1, 'model__weights': 'uniform'}"
      ]
     },
     "execution_count": 45,
     "metadata": {},
     "output_type": "execute_result"
    }
   ],
   "source": [
    "# Get Best Hyperparameters\n",
    "knn_grid.best_params_"
   ]
  },
  {
   "cell_type": "markdown",
   "metadata": {},
   "source": [
    "Masukan parameter terbaik ke model"
   ]
  },
  {
   "cell_type": "code",
   "execution_count": 46,
   "metadata": {},
   "outputs": [],
   "source": [
    "# Get Best Estimator\n",
    "knn_grid_best = knn_grid.best_estimator_"
   ]
  },
  {
   "cell_type": "code",
   "execution_count": 47,
   "metadata": {},
   "outputs": [
    {
     "data": {
      "text/html": [
       "<style>#sk-container-id-4 {color: black;}#sk-container-id-4 pre{padding: 0;}#sk-container-id-4 div.sk-toggleable {background-color: white;}#sk-container-id-4 label.sk-toggleable__label {cursor: pointer;display: block;width: 100%;margin-bottom: 0;padding: 0.3em;box-sizing: border-box;text-align: center;}#sk-container-id-4 label.sk-toggleable__label-arrow:before {content: \"▸\";float: left;margin-right: 0.25em;color: #696969;}#sk-container-id-4 label.sk-toggleable__label-arrow:hover:before {color: black;}#sk-container-id-4 div.sk-estimator:hover label.sk-toggleable__label-arrow:before {color: black;}#sk-container-id-4 div.sk-toggleable__content {max-height: 0;max-width: 0;overflow: hidden;text-align: left;background-color: #f0f8ff;}#sk-container-id-4 div.sk-toggleable__content pre {margin: 0.2em;color: black;border-radius: 0.25em;background-color: #f0f8ff;}#sk-container-id-4 input.sk-toggleable__control:checked~div.sk-toggleable__content {max-height: 200px;max-width: 100%;overflow: auto;}#sk-container-id-4 input.sk-toggleable__control:checked~label.sk-toggleable__label-arrow:before {content: \"▾\";}#sk-container-id-4 div.sk-estimator input.sk-toggleable__control:checked~label.sk-toggleable__label {background-color: #d4ebff;}#sk-container-id-4 div.sk-label input.sk-toggleable__control:checked~label.sk-toggleable__label {background-color: #d4ebff;}#sk-container-id-4 input.sk-hidden--visually {border: 0;clip: rect(1px 1px 1px 1px);clip: rect(1px, 1px, 1px, 1px);height: 1px;margin: -1px;overflow: hidden;padding: 0;position: absolute;width: 1px;}#sk-container-id-4 div.sk-estimator {font-family: monospace;background-color: #f0f8ff;border: 1px dotted black;border-radius: 0.25em;box-sizing: border-box;margin-bottom: 0.5em;}#sk-container-id-4 div.sk-estimator:hover {background-color: #d4ebff;}#sk-container-id-4 div.sk-parallel-item::after {content: \"\";width: 100%;border-bottom: 1px solid gray;flex-grow: 1;}#sk-container-id-4 div.sk-label:hover label.sk-toggleable__label {background-color: #d4ebff;}#sk-container-id-4 div.sk-serial::before {content: \"\";position: absolute;border-left: 1px solid gray;box-sizing: border-box;top: 0;bottom: 0;left: 50%;z-index: 0;}#sk-container-id-4 div.sk-serial {display: flex;flex-direction: column;align-items: center;background-color: white;padding-right: 0.2em;padding-left: 0.2em;position: relative;}#sk-container-id-4 div.sk-item {position: relative;z-index: 1;}#sk-container-id-4 div.sk-parallel {display: flex;align-items: stretch;justify-content: center;background-color: white;position: relative;}#sk-container-id-4 div.sk-item::before, #sk-container-id-4 div.sk-parallel-item::before {content: \"\";position: absolute;border-left: 1px solid gray;box-sizing: border-box;top: 0;bottom: 0;left: 50%;z-index: -1;}#sk-container-id-4 div.sk-parallel-item {display: flex;flex-direction: column;z-index: 1;position: relative;background-color: white;}#sk-container-id-4 div.sk-parallel-item:first-child::after {align-self: flex-end;width: 50%;}#sk-container-id-4 div.sk-parallel-item:last-child::after {align-self: flex-start;width: 50%;}#sk-container-id-4 div.sk-parallel-item:only-child::after {width: 0;}#sk-container-id-4 div.sk-dashed-wrapped {border: 1px dashed gray;margin: 0 0.4em 0.5em 0.4em;box-sizing: border-box;padding-bottom: 0.4em;background-color: white;}#sk-container-id-4 div.sk-label label {font-family: monospace;font-weight: bold;display: inline-block;line-height: 1.2em;}#sk-container-id-4 div.sk-label-container {text-align: center;}#sk-container-id-4 div.sk-container {/* jupyter's `normalize.less` sets `[hidden] { display: none; }` but bootstrap.min.css set `[hidden] { display: none !important; }` so we also need the `!important` here to be able to override the default hidden behavior on the sphinx rendered scikit-learn.org. See: https://github.com/scikit-learn/scikit-learn/issues/21755 */display: inline-block !important;position: relative;}#sk-container-id-4 div.sk-text-repr-fallback {display: none;}</style><div id=\"sk-container-id-4\" class=\"sk-top-container\"><div class=\"sk-text-repr-fallback\"><pre>Pipeline(steps=[(&#x27;transformer&#x27;,\n",
       "                 ColumnTransformer(transformers=[(&#x27;scaler&#x27;, MinMaxScaler(),\n",
       "                                                  [&#x27;Age&#x27;]),\n",
       "                                                 (&#x27;encoder&#x27;,\n",
       "                                                  OneHotEncoder(handle_unknown=&#x27;ignore&#x27;),\n",
       "                                                  [&#x27;JoiningYear&#x27;, &#x27;City&#x27;,\n",
       "                                                   &#x27;Gender&#x27;]),\n",
       "                                                 (&#x27;passthrough&#x27;, &#x27;passthrough&#x27;,\n",
       "                                                  [&#x27;PaymentTier&#x27;])])),\n",
       "                (&#x27;model&#x27;, KNeighborsClassifier(p=1))])</pre><b>In a Jupyter environment, please rerun this cell to show the HTML representation or trust the notebook. <br />On GitHub, the HTML representation is unable to render, please try loading this page with nbviewer.org.</b></div><div class=\"sk-container\" hidden><div class=\"sk-item sk-dashed-wrapped\"><div class=\"sk-label-container\"><div class=\"sk-label sk-toggleable\"><input class=\"sk-toggleable__control sk-hidden--visually\" id=\"sk-estimator-id-27\" type=\"checkbox\" ><label for=\"sk-estimator-id-27\" class=\"sk-toggleable__label sk-toggleable__label-arrow\">Pipeline</label><div class=\"sk-toggleable__content\"><pre>Pipeline(steps=[(&#x27;transformer&#x27;,\n",
       "                 ColumnTransformer(transformers=[(&#x27;scaler&#x27;, MinMaxScaler(),\n",
       "                                                  [&#x27;Age&#x27;]),\n",
       "                                                 (&#x27;encoder&#x27;,\n",
       "                                                  OneHotEncoder(handle_unknown=&#x27;ignore&#x27;),\n",
       "                                                  [&#x27;JoiningYear&#x27;, &#x27;City&#x27;,\n",
       "                                                   &#x27;Gender&#x27;]),\n",
       "                                                 (&#x27;passthrough&#x27;, &#x27;passthrough&#x27;,\n",
       "                                                  [&#x27;PaymentTier&#x27;])])),\n",
       "                (&#x27;model&#x27;, KNeighborsClassifier(p=1))])</pre></div></div></div><div class=\"sk-serial\"><div class=\"sk-item sk-dashed-wrapped\"><div class=\"sk-label-container\"><div class=\"sk-label sk-toggleable\"><input class=\"sk-toggleable__control sk-hidden--visually\" id=\"sk-estimator-id-28\" type=\"checkbox\" ><label for=\"sk-estimator-id-28\" class=\"sk-toggleable__label sk-toggleable__label-arrow\">transformer: ColumnTransformer</label><div class=\"sk-toggleable__content\"><pre>ColumnTransformer(transformers=[(&#x27;scaler&#x27;, MinMaxScaler(), [&#x27;Age&#x27;]),\n",
       "                                (&#x27;encoder&#x27;,\n",
       "                                 OneHotEncoder(handle_unknown=&#x27;ignore&#x27;),\n",
       "                                 [&#x27;JoiningYear&#x27;, &#x27;City&#x27;, &#x27;Gender&#x27;]),\n",
       "                                (&#x27;passthrough&#x27;, &#x27;passthrough&#x27;,\n",
       "                                 [&#x27;PaymentTier&#x27;])])</pre></div></div></div><div class=\"sk-parallel\"><div class=\"sk-parallel-item\"><div class=\"sk-item\"><div class=\"sk-label-container\"><div class=\"sk-label sk-toggleable\"><input class=\"sk-toggleable__control sk-hidden--visually\" id=\"sk-estimator-id-29\" type=\"checkbox\" ><label for=\"sk-estimator-id-29\" class=\"sk-toggleable__label sk-toggleable__label-arrow\">scaler</label><div class=\"sk-toggleable__content\"><pre>[&#x27;Age&#x27;]</pre></div></div></div><div class=\"sk-serial\"><div class=\"sk-item\"><div class=\"sk-estimator sk-toggleable\"><input class=\"sk-toggleable__control sk-hidden--visually\" id=\"sk-estimator-id-30\" type=\"checkbox\" ><label for=\"sk-estimator-id-30\" class=\"sk-toggleable__label sk-toggleable__label-arrow\">MinMaxScaler</label><div class=\"sk-toggleable__content\"><pre>MinMaxScaler()</pre></div></div></div></div></div></div><div class=\"sk-parallel-item\"><div class=\"sk-item\"><div class=\"sk-label-container\"><div class=\"sk-label sk-toggleable\"><input class=\"sk-toggleable__control sk-hidden--visually\" id=\"sk-estimator-id-31\" type=\"checkbox\" ><label for=\"sk-estimator-id-31\" class=\"sk-toggleable__label sk-toggleable__label-arrow\">encoder</label><div class=\"sk-toggleable__content\"><pre>[&#x27;JoiningYear&#x27;, &#x27;City&#x27;, &#x27;Gender&#x27;]</pre></div></div></div><div class=\"sk-serial\"><div class=\"sk-item\"><div class=\"sk-estimator sk-toggleable\"><input class=\"sk-toggleable__control sk-hidden--visually\" id=\"sk-estimator-id-32\" type=\"checkbox\" ><label for=\"sk-estimator-id-32\" class=\"sk-toggleable__label sk-toggleable__label-arrow\">OneHotEncoder</label><div class=\"sk-toggleable__content\"><pre>OneHotEncoder(handle_unknown=&#x27;ignore&#x27;)</pre></div></div></div></div></div></div><div class=\"sk-parallel-item\"><div class=\"sk-item\"><div class=\"sk-label-container\"><div class=\"sk-label sk-toggleable\"><input class=\"sk-toggleable__control sk-hidden--visually\" id=\"sk-estimator-id-33\" type=\"checkbox\" ><label for=\"sk-estimator-id-33\" class=\"sk-toggleable__label sk-toggleable__label-arrow\">passthrough</label><div class=\"sk-toggleable__content\"><pre>[&#x27;PaymentTier&#x27;]</pre></div></div></div><div class=\"sk-serial\"><div class=\"sk-item\"><div class=\"sk-estimator sk-toggleable\"><input class=\"sk-toggleable__control sk-hidden--visually\" id=\"sk-estimator-id-34\" type=\"checkbox\" ><label for=\"sk-estimator-id-34\" class=\"sk-toggleable__label sk-toggleable__label-arrow\">passthrough</label><div class=\"sk-toggleable__content\"><pre>passthrough</pre></div></div></div></div></div></div></div></div><div class=\"sk-item\"><div class=\"sk-estimator sk-toggleable\"><input class=\"sk-toggleable__control sk-hidden--visually\" id=\"sk-estimator-id-35\" type=\"checkbox\" ><label for=\"sk-estimator-id-35\" class=\"sk-toggleable__label sk-toggleable__label-arrow\">KNeighborsClassifier</label><div class=\"sk-toggleable__content\"><pre>KNeighborsClassifier(p=1)</pre></div></div></div></div></div></div></div>"
      ],
      "text/plain": [
       "Pipeline(steps=[('transformer',\n",
       "                 ColumnTransformer(transformers=[('scaler', MinMaxScaler(),\n",
       "                                                  ['Age']),\n",
       "                                                 ('encoder',\n",
       "                                                  OneHotEncoder(handle_unknown='ignore'),\n",
       "                                                  ['JoiningYear', 'City',\n",
       "                                                   'Gender']),\n",
       "                                                 ('passthrough', 'passthrough',\n",
       "                                                  ['PaymentTier'])])),\n",
       "                ('model', KNeighborsClassifier(p=1))])"
      ]
     },
     "execution_count": 47,
     "metadata": {},
     "output_type": "execute_result"
    }
   ],
   "source": [
    "knn_grid_best"
   ]
  },
  {
   "cell_type": "markdown",
   "metadata": {},
   "source": [
    "# viii. Model Evaluation"
   ]
  },
  {
   "cell_type": "markdown",
   "metadata": {},
   "source": [
    "Evaluasi model membantu dalam mengukur sejauh mana model yang dikembangkan dapat memprediksi dengan benar atau menghasilkan hasil yang sesuai dengan data yang belum pernah dilihat sebelumnya. Ini memberikan pandangan yang obyektif tentang apakah model tersebut berguna atau tidak"
   ]
  },
  {
   "cell_type": "code",
   "execution_count": 48,
   "metadata": {},
   "outputs": [
    {
     "name": "stdout",
     "output_type": "stream",
     "text": [
      "Recall Score - train Set   :  0.6510791366906474 \n",
      "\n",
      "Classification Report : \n",
      "               precision    recall  f1-score   support\n",
      "\n",
      "           0       0.79      0.89      0.84      1238\n",
      "           1       0.80      0.65      0.72       834\n",
      "\n",
      "    accuracy                           0.79      2072\n",
      "   macro avg       0.79      0.77      0.78      2072\n",
      "weighted avg       0.79      0.79      0.79      2072\n",
      " \n",
      "\n",
      "Confusion Matrix      : \n",
      " <sklearn.metrics._plot.confusion_matrix.ConfusionMatrixDisplay object at 0x000001E7A47F7910>\n"
     ]
    },
    {
     "data": {
      "image/png": "[encoded data removed]",
      "text/plain": [
       "<Figure size 640x480 with 2 Axes>"
      ]
     },
     "metadata": {},
     "output_type": "display_data"
    }
   ],
   "source": [
    "# Check Performance Model against train-Set\n",
    "\n",
    "y_pred_train = knn_grid_best.predict(X_train)\n",
    "\n",
    "print('Recall Score - train Set   : ', recall_score(y_train, y_pred_train), '\\n')\n",
    "print('Classification Report : \\n', classification_report(y_train, y_pred_train), '\\n')\n",
    "print('Confusion Matrix      : \\n', ConfusionMatrixDisplay.from_estimator(knn_grid_best, X_train, y_train, cmap='Reds'))"
   ]
  },
  {
   "cell_type": "code",
   "execution_count": 49,
   "metadata": {},
   "outputs": [
    {
     "name": "stdout",
     "output_type": "stream",
     "text": [
      "Recall Score - Test Set   :  0.5708661417322834 \n",
      "\n",
      "Classification Report : \n",
      "               precision    recall  f1-score   support\n",
      "\n",
      "           0       0.76      0.78      0.77       437\n",
      "           1       0.61      0.57      0.59       254\n",
      "\n",
      "    accuracy                           0.71       691\n",
      "   macro avg       0.68      0.68      0.68       691\n",
      "weighted avg       0.70      0.71      0.70       691\n",
      " \n",
      "\n",
      "Confusion Matrix      : \n",
      " <sklearn.metrics._plot.confusion_matrix.ConfusionMatrixDisplay object at 0x000001E7A484ED10>\n"
     ]
    },
    {
     "data": {
      "image/png": "[encoded data removed]",
      "text/plain": [
       "<Figure size 640x480 with 2 Axes>"
      ]
     },
     "metadata": {},
     "output_type": "display_data"
    }
   ],
   "source": [
    "# Check Performance Model against Test-Set\n",
    "\n",
    "y_pred_test = knn_grid_best.predict(X_test)\n",
    "\n",
    "print('Recall Score - Test Set   : ', recall_score(y_test, y_pred_test), '\\n')\n",
    "print('Classification Report : \\n', classification_report(y_test, y_pred_test), '\\n')\n",
    "print('Confusion Matrix      : \\n', ConfusionMatrixDisplay.from_estimator(knn_grid_best, X_test, y_test, cmap='Reds'))"
   ]
  },
  {
   "cell_type": "markdown",
   "metadata": {},
   "source": [
    "Recall score train = 0.65  : Ini berarti bahwa pada dataset pelatihan, model mampu mengidentifikasi dengan benar 65% dari semua kasus positif (klasifikasi 1). Ini adalah kinerja model pada data yang digunakan untuk pelatihan.\n",
    "\n",
    "Recall Score Test = 0.57: Ini berarti bahwa pada dataset pengujian, model hanya mampu mengidentifikasi dengan benar 57% dari semua kasus positif (klasifikasi 1). Ini adalah kinerja model pada data yang belum pernah dilihat sebelumnya (data pengujian).\n",
    "\n",
    "Perbedaan antara recall score pada data train dan data test bisa mengindikasikan underfiting. Jika model memiliki recall tes yang lebih tinggi pada data pelatihan daripada pada data pengujian, maka model tersebut mungkin telah \"memorakannya\" dengan baik pada data pelatihan, tetapi mungkin tidak generalisasi dengan baik pada data yang belum pernah dilihat sebelumnya. Hal ini bisa menjadi tanda bahwa model perlu penyesuaian agar lebih baik dalam menggeneralisasi pada data baru."
   ]
  },
  {
   "cell_type": "code",
   "execution_count": 50,
   "metadata": {},
   "outputs": [
    {
     "data": {
      "text/html": [
       "<div>\n",
       "<style scoped>\n",
       "    .dataframe tbody tr th:only-of-type {\n",
       "        vertical-align: middle;\n",
       "    }\n",
       "\n",
       "    .dataframe tbody tr th {\n",
       "        vertical-align: top;\n",
       "    }\n",
       "\n",
       "    .dataframe thead th {\n",
       "        text-align: right;\n",
       "    }\n",
       "</style>\n",
       "<table border=\"1\" class=\"dataframe\">\n",
       "  <thead>\n",
       "    <tr style=\"text-align: right;\">\n",
       "      <th></th>\n",
       "      <th>Baseline (Default Hyperparameter)</th>\n",
       "    </tr>\n",
       "  </thead>\n",
       "  <tbody>\n",
       "    <tr>\n",
       "      <th>test - accuracy</th>\n",
       "      <td>0.706223</td>\n",
       "    </tr>\n",
       "    <tr>\n",
       "      <th>test - f1_score</th>\n",
       "      <td>0.588235</td>\n",
       "    </tr>\n",
       "    <tr>\n",
       "      <th>test - precision</th>\n",
       "      <td>0.606695</td>\n",
       "    </tr>\n",
       "    <tr>\n",
       "      <th>test - recall</th>\n",
       "      <td>0.570866</td>\n",
       "    </tr>\n",
       "    <tr>\n",
       "      <th>train - accuracy</th>\n",
       "      <td>0.792954</td>\n",
       "    </tr>\n",
       "    <tr>\n",
       "      <th>train - f1_score</th>\n",
       "      <td>0.716832</td>\n",
       "    </tr>\n",
       "    <tr>\n",
       "      <th>train - precision</th>\n",
       "      <td>0.797357</td>\n",
       "    </tr>\n",
       "    <tr>\n",
       "      <th>train - recall</th>\n",
       "      <td>0.651079</td>\n",
       "    </tr>\n",
       "  </tbody>\n",
       "</table>\n",
       "</div>"
      ],
      "text/plain": [
       "                   Baseline (Default Hyperparameter)\n",
       "test - accuracy                             0.706223\n",
       "test - f1_score                             0.588235\n",
       "test - precision                            0.606695\n",
       "test - recall                               0.570866\n",
       "train - accuracy                            0.792954\n",
       "train - f1_score                            0.716832\n",
       "train - precision                           0.797357\n",
       "train - recall                              0.651079"
      ]
     },
     "execution_count": 50,
     "metadata": {},
     "output_type": "execute_result"
    }
   ],
   "source": [
    "all_reports = {}\n",
    "\n",
    "def performance_report(all_reports, y_train, y_pred_train, y_test, y_pred_test, name):\n",
    "  score_reports = {\n",
    "      'train - precision' : precision_score(y_train, y_pred_train),\n",
    "      'train - recall' : recall_score(y_train, y_pred_train),\n",
    "      'train - accuracy' : accuracy_score(y_train, y_pred_train),\n",
    "      'train - f1_score' : f1_score(y_train, y_pred_train),\n",
    "      'test - precision' : precision_score(y_test, y_pred_test),\n",
    "      'test - recall' : recall_score(y_test, y_pred_test),\n",
    "      'test - accuracy' : accuracy_score(y_test, y_pred_test),\n",
    "      'test - f1_score' : f1_score(y_test, y_pred_test),\n",
    "  }\n",
    "  all_reports[name] = score_reports\n",
    "  return all_reports\n",
    "\n",
    "all_reports = performance_report(all_reports, y_train, y_pred_train, y_test, y_pred_test, 'Baseline (Default Hyperparameter)')\n",
    "pd.DataFrame(all_reports)"
   ]
  },
  {
   "cell_type": "markdown",
   "metadata": {},
   "source": [
    "Test Recall yang Rendah: Recall pada data pengujian adalah 57.1%, yang menunjukkan bahwa model memiliki kesulitan dalam mengidentifikasi positif sejati."
   ]
  },
  {
   "cell_type": "markdown",
   "metadata": {},
   "source": [
    "**Membuat perbandingan aktual dan prediksi pada X_test**"
   ]
  },
  {
   "cell_type": "code",
   "execution_count": 51,
   "metadata": {},
   "outputs": [
    {
     "data": {
      "text/html": [
       "<div>\n",
       "<style scoped>\n",
       "    .dataframe tbody tr th:only-of-type {\n",
       "        vertical-align: middle;\n",
       "    }\n",
       "\n",
       "    .dataframe tbody tr th {\n",
       "        vertical-align: top;\n",
       "    }\n",
       "\n",
       "    .dataframe thead th {\n",
       "        text-align: right;\n",
       "    }\n",
       "</style>\n",
       "<table border=\"1\" class=\"dataframe\">\n",
       "  <thead>\n",
       "    <tr style=\"text-align: right;\">\n",
       "      <th></th>\n",
       "      <th>aktual</th>\n",
       "      <th>prediksi</th>\n",
       "    </tr>\n",
       "  </thead>\n",
       "  <tbody>\n",
       "    <tr>\n",
       "      <th>981</th>\n",
       "      <td>1</td>\n",
       "      <td>1</td>\n",
       "    </tr>\n",
       "    <tr>\n",
       "      <th>955</th>\n",
       "      <td>0</td>\n",
       "      <td>0</td>\n",
       "    </tr>\n",
       "    <tr>\n",
       "      <th>543</th>\n",
       "      <td>1</td>\n",
       "      <td>0</td>\n",
       "    </tr>\n",
       "    <tr>\n",
       "      <th>2421</th>\n",
       "      <td>0</td>\n",
       "      <td>0</td>\n",
       "    </tr>\n",
       "    <tr>\n",
       "      <th>2191</th>\n",
       "      <td>0</td>\n",
       "      <td>0</td>\n",
       "    </tr>\n",
       "    <tr>\n",
       "      <th>...</th>\n",
       "      <td>...</td>\n",
       "      <td>...</td>\n",
       "    </tr>\n",
       "    <tr>\n",
       "      <th>1928</th>\n",
       "      <td>0</td>\n",
       "      <td>1</td>\n",
       "    </tr>\n",
       "    <tr>\n",
       "      <th>2187</th>\n",
       "      <td>0</td>\n",
       "      <td>0</td>\n",
       "    </tr>\n",
       "    <tr>\n",
       "      <th>2273</th>\n",
       "      <td>0</td>\n",
       "      <td>0</td>\n",
       "    </tr>\n",
       "    <tr>\n",
       "      <th>2360</th>\n",
       "      <td>0</td>\n",
       "      <td>0</td>\n",
       "    </tr>\n",
       "    <tr>\n",
       "      <th>832</th>\n",
       "      <td>0</td>\n",
       "      <td>0</td>\n",
       "    </tr>\n",
       "  </tbody>\n",
       "</table>\n",
       "<p>691 rows × 2 columns</p>\n",
       "</div>"
      ],
      "text/plain": [
       "      aktual  prediksi\n",
       "981        1         1\n",
       "955        0         0\n",
       "543        1         0\n",
       "2421       0         0\n",
       "2191       0         0\n",
       "...      ...       ...\n",
       "1928       0         1\n",
       "2187       0         0\n",
       "2273       0         0\n",
       "2360       0         0\n",
       "832        0         0\n",
       "\n",
       "[691 rows x 2 columns]"
      ]
     },
     "execution_count": 51,
     "metadata": {},
     "output_type": "execute_result"
    }
   ],
   "source": [
    "perbandingan = pd.DataFrame({'aktual': y_test,\n",
    "                             'prediksi': y_pred_test})\n",
    "\n",
    "perbandingan"
   ]
  },
  {
   "cell_type": "markdown",
   "metadata": {},
   "source": [
    "**Membandingkan berapa jumlah prediksi yang sama dengan aktual dan prediksi yang tidak sama dengan aktual**"
   ]
  },
  {
   "cell_type": "code",
   "execution_count": 52,
   "metadata": {},
   "outputs": [
    {
     "name": "stdout",
     "output_type": "stream",
     "text": [
      "jumlah prediksi sama dengan aktual =  488\n",
      "jumlah prediksi tidak sama dengan aktual =  203\n"
     ]
    }
   ],
   "source": [
    "sesuai_prediksi = (perbandingan['aktual'] == perbandingan['prediksi']).sum()\n",
    "tidak_sesuai_prediksi = (perbandingan['aktual'] != perbandingan['prediksi']).sum()\n",
    "\n",
    "print(f'jumlah prediksi sama dengan aktual = ', sesuai_prediksi)\n",
    "print(f'jumlah prediksi tidak sama dengan aktual = ', tidak_sesuai_prediksi)\n"
   ]
  },
  {
   "cell_type": "markdown",
   "metadata": {},
   "source": [
    "Dari Hasil Prediksi dengan menggunakan x_test sebagai data dalam melakukan prediksi di dapatkan bahwa :\n",
    "- Jumlah prediksi sama dengan aktual =  488 = 70.62% \n",
    "- Jumlah prediksi tidak sama dengan aktual =  203 = 29.38%"
   ]
  },
  {
   "cell_type": "code",
   "execution_count": 53,
   "metadata": {},
   "outputs": [
    {
     "name": "stdout",
     "output_type": "stream",
     "text": [
      "Confusion Matrics:\n",
      "[[343  94]\n",
      " [109 145]]\n",
      "True Positives (TP): 145\n",
      "True Negatives (TN): 343\n",
      "False Positives (FP): 94\n",
      "False Negatives (FN): 109\n"
     ]
    }
   ],
   "source": [
    "# Menghitung confusion matrix\n",
    "cm = confusion_matrix(perbandingan['aktual'], perbandingan['prediksi'])\n",
    "\n",
    "# Menampilkan hasil confusion matrix\n",
    "print(\"Confusion Matrics:\")\n",
    "print(cm)\n",
    "\n",
    "# Menghitung True Positives, True Negatives, False Positives, dan False Negatives\n",
    "TP = cm[1, 1]\n",
    "TN = cm[0, 0]\n",
    "FP = cm[0, 1]\n",
    "FN = cm[1, 0]\n",
    "\n",
    "print(f\"True Positives (TP): {TP}\")\n",
    "print(f\"True Negatives (TN): {TN}\")\n",
    "print(f\"False Positives (FP): {FP}\")\n",
    "print(f\"False Negatives (FN): {FN}\")"
   ]
  },
  {
   "cell_type": "markdown",
   "metadata": {},
   "source": [
    "Artinya : \n",
    "- True Positives (TP): Jumlah karyawan yang diprediksi sebagai \"akan berhenti\" dan benar-benar \"berhenti\" adalah 145.\n",
    "- True Negatives (TN): Jumlah karyawan yang diprediksi sebagai \"akan tetap bekerja\" dan benar-benar \"tetap bekerja\" adalah 343.\n",
    "- False Positives (FP): Jumlah karyawan yang diprediksi sebagai \"akan berhenti\" tetapi sebenarnya \"tetap bekerja\" adalah 94.\n",
    "- False Negatives (FN): Jumlah karyawan yang diprediksi sebagai \"akan tetap bekerja\" tetapi sebenarnya \"berhenti\" adalah 109.\n",
    "\n",
    "Dengan data di atas kita dapat menganalisis seberapa baik model ini dalam memprediksi karyawan yang akan berhenti (positif) dan karyawan yang akan - tetap bekerja (negatif). False Positives dan False Negatives adalah bagian penting dari evaluasi model dimana model ini hanya mampu mengidentifikasi secara benar sebanyak 70.02%, karena mereka menunjukkan di mana model Anda mungkin membuat kesalahan dalam prediksi 29,82%."
   ]
  },
  {
   "cell_type": "markdown",
   "metadata": {},
   "source": [
    "# ix. Model Saving\n",
    "\n"
   ]
  },
  {
   "cell_type": "code",
   "execution_count": 54,
   "metadata": {},
   "outputs": [
    {
     "data": {
      "text/html": [
       "<style>#sk-container-id-5 {color: black;}#sk-container-id-5 pre{padding: 0;}#sk-container-id-5 div.sk-toggleable {background-color: white;}#sk-container-id-5 label.sk-toggleable__label {cursor: pointer;display: block;width: 100%;margin-bottom: 0;padding: 0.3em;box-sizing: border-box;text-align: center;}#sk-container-id-5 label.sk-toggleable__label-arrow:before {content: \"▸\";float: left;margin-right: 0.25em;color: #696969;}#sk-container-id-5 label.sk-toggleable__label-arrow:hover:before {color: black;}#sk-container-id-5 div.sk-estimator:hover label.sk-toggleable__label-arrow:before {color: black;}#sk-container-id-5 div.sk-toggleable__content {max-height: 0;max-width: 0;overflow: hidden;text-align: left;background-color: #f0f8ff;}#sk-container-id-5 div.sk-toggleable__content pre {margin: 0.2em;color: black;border-radius: 0.25em;background-color: #f0f8ff;}#sk-container-id-5 input.sk-toggleable__control:checked~div.sk-toggleable__content {max-height: 200px;max-width: 100%;overflow: auto;}#sk-container-id-5 input.sk-toggleable__control:checked~label.sk-toggleable__label-arrow:before {content: \"▾\";}#sk-container-id-5 div.sk-estimator input.sk-toggleable__control:checked~label.sk-toggleable__label {background-color: #d4ebff;}#sk-container-id-5 div.sk-label input.sk-toggleable__control:checked~label.sk-toggleable__label {background-color: #d4ebff;}#sk-container-id-5 input.sk-hidden--visually {border: 0;clip: rect(1px 1px 1px 1px);clip: rect(1px, 1px, 1px, 1px);height: 1px;margin: -1px;overflow: hidden;padding: 0;position: absolute;width: 1px;}#sk-container-id-5 div.sk-estimator {font-family: monospace;background-color: #f0f8ff;border: 1px dotted black;border-radius: 0.25em;box-sizing: border-box;margin-bottom: 0.5em;}#sk-container-id-5 div.sk-estimator:hover {background-color: #d4ebff;}#sk-container-id-5 div.sk-parallel-item::after {content: \"\";width: 100%;border-bottom: 1px solid gray;flex-grow: 1;}#sk-container-id-5 div.sk-label:hover label.sk-toggleable__label {background-color: #d4ebff;}#sk-container-id-5 div.sk-serial::before {content: \"\";position: absolute;border-left: 1px solid gray;box-sizing: border-box;top: 0;bottom: 0;left: 50%;z-index: 0;}#sk-container-id-5 div.sk-serial {display: flex;flex-direction: column;align-items: center;background-color: white;padding-right: 0.2em;padding-left: 0.2em;position: relative;}#sk-container-id-5 div.sk-item {position: relative;z-index: 1;}#sk-container-id-5 div.sk-parallel {display: flex;align-items: stretch;justify-content: center;background-color: white;position: relative;}#sk-container-id-5 div.sk-item::before, #sk-container-id-5 div.sk-parallel-item::before {content: \"\";position: absolute;border-left: 1px solid gray;box-sizing: border-box;top: 0;bottom: 0;left: 50%;z-index: -1;}#sk-container-id-5 div.sk-parallel-item {display: flex;flex-direction: column;z-index: 1;position: relative;background-color: white;}#sk-container-id-5 div.sk-parallel-item:first-child::after {align-self: flex-end;width: 50%;}#sk-container-id-5 div.sk-parallel-item:last-child::after {align-self: flex-start;width: 50%;}#sk-container-id-5 div.sk-parallel-item:only-child::after {width: 0;}#sk-container-id-5 div.sk-dashed-wrapped {border: 1px dashed gray;margin: 0 0.4em 0.5em 0.4em;box-sizing: border-box;padding-bottom: 0.4em;background-color: white;}#sk-container-id-5 div.sk-label label {font-family: monospace;font-weight: bold;display: inline-block;line-height: 1.2em;}#sk-container-id-5 div.sk-label-container {text-align: center;}#sk-container-id-5 div.sk-container {/* jupyter's `normalize.less` sets `[hidden] { display: none; }` but bootstrap.min.css set `[hidden] { display: none !important; }` so we also need the `!important` here to be able to override the default hidden behavior on the sphinx rendered scikit-learn.org. See: https://github.com/scikit-learn/scikit-learn/issues/21755 */display: inline-block !important;position: relative;}#sk-container-id-5 div.sk-text-repr-fallback {display: none;}</style><div id=\"sk-container-id-5\" class=\"sk-top-container\"><div class=\"sk-text-repr-fallback\"><pre>Pipeline(steps=[(&#x27;transformer&#x27;,\n",
       "                 ColumnTransformer(transformers=[(&#x27;scaler&#x27;, MinMaxScaler(),\n",
       "                                                  [&#x27;Age&#x27;]),\n",
       "                                                 (&#x27;encoder&#x27;,\n",
       "                                                  OneHotEncoder(handle_unknown=&#x27;ignore&#x27;),\n",
       "                                                  [&#x27;JoiningYear&#x27;, &#x27;City&#x27;,\n",
       "                                                   &#x27;Gender&#x27;]),\n",
       "                                                 (&#x27;passthrough&#x27;, &#x27;passthrough&#x27;,\n",
       "                                                  [&#x27;PaymentTier&#x27;])])),\n",
       "                (&#x27;model&#x27;, KNeighborsClassifier(p=1))])</pre><b>In a Jupyter environment, please rerun this cell to show the HTML representation or trust the notebook. <br />On GitHub, the HTML representation is unable to render, please try loading this page with nbviewer.org.</b></div><div class=\"sk-container\" hidden><div class=\"sk-item sk-dashed-wrapped\"><div class=\"sk-label-container\"><div class=\"sk-label sk-toggleable\"><input class=\"sk-toggleable__control sk-hidden--visually\" id=\"sk-estimator-id-36\" type=\"checkbox\" ><label for=\"sk-estimator-id-36\" class=\"sk-toggleable__label sk-toggleable__label-arrow\">Pipeline</label><div class=\"sk-toggleable__content\"><pre>Pipeline(steps=[(&#x27;transformer&#x27;,\n",
       "                 ColumnTransformer(transformers=[(&#x27;scaler&#x27;, MinMaxScaler(),\n",
       "                                                  [&#x27;Age&#x27;]),\n",
       "                                                 (&#x27;encoder&#x27;,\n",
       "                                                  OneHotEncoder(handle_unknown=&#x27;ignore&#x27;),\n",
       "                                                  [&#x27;JoiningYear&#x27;, &#x27;City&#x27;,\n",
       "                                                   &#x27;Gender&#x27;]),\n",
       "                                                 (&#x27;passthrough&#x27;, &#x27;passthrough&#x27;,\n",
       "                                                  [&#x27;PaymentTier&#x27;])])),\n",
       "                (&#x27;model&#x27;, KNeighborsClassifier(p=1))])</pre></div></div></div><div class=\"sk-serial\"><div class=\"sk-item sk-dashed-wrapped\"><div class=\"sk-label-container\"><div class=\"sk-label sk-toggleable\"><input class=\"sk-toggleable__control sk-hidden--visually\" id=\"sk-estimator-id-37\" type=\"checkbox\" ><label for=\"sk-estimator-id-37\" class=\"sk-toggleable__label sk-toggleable__label-arrow\">transformer: ColumnTransformer</label><div class=\"sk-toggleable__content\"><pre>ColumnTransformer(transformers=[(&#x27;scaler&#x27;, MinMaxScaler(), [&#x27;Age&#x27;]),\n",
       "                                (&#x27;encoder&#x27;,\n",
       "                                 OneHotEncoder(handle_unknown=&#x27;ignore&#x27;),\n",
       "                                 [&#x27;JoiningYear&#x27;, &#x27;City&#x27;, &#x27;Gender&#x27;]),\n",
       "                                (&#x27;passthrough&#x27;, &#x27;passthrough&#x27;,\n",
       "                                 [&#x27;PaymentTier&#x27;])])</pre></div></div></div><div class=\"sk-parallel\"><div class=\"sk-parallel-item\"><div class=\"sk-item\"><div class=\"sk-label-container\"><div class=\"sk-label sk-toggleable\"><input class=\"sk-toggleable__control sk-hidden--visually\" id=\"sk-estimator-id-38\" type=\"checkbox\" ><label for=\"sk-estimator-id-38\" class=\"sk-toggleable__label sk-toggleable__label-arrow\">scaler</label><div class=\"sk-toggleable__content\"><pre>[&#x27;Age&#x27;]</pre></div></div></div><div class=\"sk-serial\"><div class=\"sk-item\"><div class=\"sk-estimator sk-toggleable\"><input class=\"sk-toggleable__control sk-hidden--visually\" id=\"sk-estimator-id-39\" type=\"checkbox\" ><label for=\"sk-estimator-id-39\" class=\"sk-toggleable__label sk-toggleable__label-arrow\">MinMaxScaler</label><div class=\"sk-toggleable__content\"><pre>MinMaxScaler()</pre></div></div></div></div></div></div><div class=\"sk-parallel-item\"><div class=\"sk-item\"><div class=\"sk-label-container\"><div class=\"sk-label sk-toggleable\"><input class=\"sk-toggleable__control sk-hidden--visually\" id=\"sk-estimator-id-40\" type=\"checkbox\" ><label for=\"sk-estimator-id-40\" class=\"sk-toggleable__label sk-toggleable__label-arrow\">encoder</label><div class=\"sk-toggleable__content\"><pre>[&#x27;JoiningYear&#x27;, &#x27;City&#x27;, &#x27;Gender&#x27;]</pre></div></div></div><div class=\"sk-serial\"><div class=\"sk-item\"><div class=\"sk-estimator sk-toggleable\"><input class=\"sk-toggleable__control sk-hidden--visually\" id=\"sk-estimator-id-41\" type=\"checkbox\" ><label for=\"sk-estimator-id-41\" class=\"sk-toggleable__label sk-toggleable__label-arrow\">OneHotEncoder</label><div class=\"sk-toggleable__content\"><pre>OneHotEncoder(handle_unknown=&#x27;ignore&#x27;)</pre></div></div></div></div></div></div><div class=\"sk-parallel-item\"><div class=\"sk-item\"><div class=\"sk-label-container\"><div class=\"sk-label sk-toggleable\"><input class=\"sk-toggleable__control sk-hidden--visually\" id=\"sk-estimator-id-42\" type=\"checkbox\" ><label for=\"sk-estimator-id-42\" class=\"sk-toggleable__label sk-toggleable__label-arrow\">passthrough</label><div class=\"sk-toggleable__content\"><pre>[&#x27;PaymentTier&#x27;]</pre></div></div></div><div class=\"sk-serial\"><div class=\"sk-item\"><div class=\"sk-estimator sk-toggleable\"><input class=\"sk-toggleable__control sk-hidden--visually\" id=\"sk-estimator-id-43\" type=\"checkbox\" ><label for=\"sk-estimator-id-43\" class=\"sk-toggleable__label sk-toggleable__label-arrow\">passthrough</label><div class=\"sk-toggleable__content\"><pre>passthrough</pre></div></div></div></div></div></div></div></div><div class=\"sk-item\"><div class=\"sk-estimator sk-toggleable\"><input class=\"sk-toggleable__control sk-hidden--visually\" id=\"sk-estimator-id-44\" type=\"checkbox\" ><label for=\"sk-estimator-id-44\" class=\"sk-toggleable__label sk-toggleable__label-arrow\">KNeighborsClassifier</label><div class=\"sk-toggleable__content\"><pre>KNeighborsClassifier(p=1)</pre></div></div></div></div></div></div></div>"
      ],
      "text/plain": [
       "Pipeline(steps=[('transformer',\n",
       "                 ColumnTransformer(transformers=[('scaler', MinMaxScaler(),\n",
       "                                                  ['Age']),\n",
       "                                                 ('encoder',\n",
       "                                                  OneHotEncoder(handle_unknown='ignore'),\n",
       "                                                  ['JoiningYear', 'City',\n",
       "                                                   'Gender']),\n",
       "                                                 ('passthrough', 'passthrough',\n",
       "                                                  ['PaymentTier'])])),\n",
       "                ('model', KNeighborsClassifier(p=1))])"
      ]
     },
     "execution_count": 54,
     "metadata": {},
     "output_type": "execute_result"
    }
   ],
   "source": [
    "knn_grid_best"
   ]
  },
  {
   "cell_type": "markdown",
   "metadata": {},
   "source": [
    " Proses penyimpanan model penting karena melatih model bisa memakan waktu dan sumber daya yang berharga, dan dengan menyimpan model, Anda dapat dengan cepat menerapkannya pada data baru."
   ]
  },
  {
   "cell_type": "code",
   "execution_count": 55,
   "metadata": {},
   "outputs": [],
   "source": [
    "#simpan file\n",
    "\n",
    "with open('pipe_knn.pkl', 'wb') as file_1: #wb = write binnary\n",
    "    pickle.dump(knn_grid_best,file_1)"
   ]
  },
  {
   "cell_type": "markdown",
   "metadata": {},
   "source": [
    "# x. Model Inference"
   ]
  },
  {
   "cell_type": "markdown",
   "metadata": {},
   "source": [
    "Model inference dibuat di notebook berbeda dengan nama **Employee_inf.ipynb**"
   ]
  },
  {
   "cell_type": "markdown",
   "metadata": {},
   "source": [
    "# xi. Pengambilan Kesimpulan"
   ]
  },
  {
   "cell_type": "markdown",
   "metadata": {},
   "source": [
    "Data yang kita teliti berasal dari data set [Employee Future Prediction]('https://www.kaggle.com/datasets/tejashvi14/employee-future-prediction') dimana data ini terdiri dari 9 kolom, dengan rincian : Bertipe Integer(5) 10 kolom , Object 4 kolom, Memiliki 4.653 baris. namun dari data ini masih terdapat data duplikat sehingga setelah di drop semua duplikat jumlah data yang kita jadikan penelitian adalah Data terdiri dari 9 kolom, bertipe Integer(5) 10 kolom , Object 4 kolom dan memiliki 2.764 baris."
   ]
  },
  {
   "cell_type": "markdown",
   "metadata": {},
   "source": [
    "Dari hasil eksplorasi data sederhana didapatkan kan informasi dari masing masing kolom sebagai berikut :\n",
    "1. Kolom LeaveOrNot :Kecenderungan pegawai tetap bekerja walau tingkat berhenti karyawan pun besar, persebaran data antara city dan age persebarannya merata.\n",
    "2. Dari kolom city terlihat persebaran kota tempat asal karyawan :\n",
    "- 42.37 % karyawan berasal dari Bangalore\n",
    "- 28.98 % karyawan berasal dari Pune\n",
    "- 28.65 % karyawan berasal dari New Delhi\n",
    "3. Kolom Education : karyawan paling banyak dari lulusan Bachelor,\n",
    "4. Kolom JoinYear : mayoritas karyawan mulai bekerja pada tahun 2017,\n",
    "5. Kolom PaymenTier : paymenttier tertinggi di angka 3 bulan.\n",
    "6. Kolom Gender : mayoritas karyawan adala male (pria)\n",
    "7. Kolom Age : persebaran usia pegawai terlihat merata, usia 28 tahun adalah usia terbanyak dari karyawan.\n",
    "8. Kolom EverBench : didominasi oleh karyawa yang tidak pernah keluar dari prusahaan. "
   ]
  },
  {
   "cell_type": "markdown",
   "metadata": {},
   "source": [
    "Model yang digunakan pada penelitian ini di ambil dari model Logistic Regression, Support Vector Machine, Decision Tree, Random Forest, K-Nearest Neighbors, Gaussian Naive Bayes, dan AdaBoost dari ke 7 model ini di ambil satu yang terbaik yaitu knn dengan metrics Recall."
   ]
  },
  {
   "cell_type": "markdown",
   "metadata": {},
   "source": [
    "Dari Hasil Prediksi dengan menggunakan x_test sebagai data dalam melakukan prediksi di dapatkan bahwa :\n",
    "- Jumlah prediksi sama dengan aktual =  488 = 70.62% \n",
    "- Jumlah prediksi tidak sama dengan aktual =  203 = 29.38%\n",
    "\n",
    "Dengan rincian Confusion Metrics:\n",
    " \n",
    "| 343 | 94 |\n",
    "------ | ------\n",
    "| 109 | 145 |\n",
    "\n",
    "True Positives (TP): 145\n",
    "True Negatives (TN): 343\n",
    "False Positives (FP): 94\n",
    "False Negatives (FN): 109\n",
    "\n",
    "Dari data di atas kita dapatkan informasi sebagai berikut:\n",
    "- True Positives (TP): Jumlah karyawan yang diprediksi sebagai \"akan berhenti\" dan benar-benar \"berhenti\" adalah 145.\n",
    "- True Negatives (TN): Jumlah karyawan yang diprediksi sebagai \"akan tetap bekerja\" dan benar-benar \"tetap bekerja\" adalah 343.\n",
    "- False Positives (FP): Jumlah karyawan yang diprediksi sebagai \"akan berhenti\" tetapi sebenarnya \"tetap bekerja\" adalah 94.\n",
    "- False Negatives (FN): Jumlah karyawan yang diprediksi sebagai \"akan tetap bekerja\" tetapi sebenarnya \"berhenti\" adalah 109.\n",
    "\n",
    "Dari hasil penelitian di atas maka dapat kita tari kelemahan dan kelebihan model :\n",
    "1.  Kelebihan Model:\n",
    "    - High True Positives (TP): Model memiliki jumlah True Positives (145) yang relatif tinggi. Ini berarti model cukup baik dalam mengidentifikasi karyawan yang akan benar-benar berhenti.\n",
    "    - High True Negatives (TN): Jumlah True Negatives (343) yang cukup tinggi menunjukkan bahwa model juga cukup baik dalam mengidentifikasi karyawan yang akan benar-benar tetap bekerja.\n",
    "\n",
    "2. Kelemahan Model:\n",
    "\n",
    "    - False Positives (FP): Model menghasilkan sejumlah False Positives (94), yang artinya sebagian karyawan yang diprediksi akan berhenti ternyata tetap bekerja. Hal ini dapat mengakibatkan biaya tambahan atau kebingungan dalam manajemen sumber daya manusia.\n",
    "\n",
    "    - False Negatives (FN): Jumlah False Negatives (109) juga cukup signifikan, yang berarti sebagian karyawan yang seharusnya diprediksi akan berhenti ternyata tidak terdeteksi. Ini dapat mengakibatkan kehilangan bakat yang berharga dan potensi masalah dalam pengelolaan karyawan.\n",
    "\n",
    "Mengingat masih banyak kelemahan pada model ini saya rekomendasikan pada peneliti yang akan melakukan modeling pada data set ini sbb :\n",
    "- Menyesuaikan threshold prediksi untuk mengurangi False Positives atau False Negatives, tergantung pada tujuan bisnis Anda.\n",
    "- Memperkuat perangkat pengukuran yang lebih cocok untuk masalah klasifikasi, seperti Precision, Accuracy, atau F1 Score.\n",
    "- Melakukan analisis lebih lanjut terhadap data atau menggali lebih dalam ke dalam faktor-faktor yang memengaruhi keputusan karyawan untuk berhenti atau tetap bekerja."
   ]
  },
  {
   "cell_type": "markdown",
   "metadata": {},
   "source": [
    "Dari hasil penelitian menjelaskan begitu banyak karyawan yang keluar dari perusahaan untuk itu diperlukan pencegahan agar perusahaan stabil dalam operasional, dengan langkah-langkah sebagai berikut : \n",
    "- Analisis Karyawan dengan Risiko Tinggi : Identifikasi karyawan yang memiliki risiko tinggi untuk berhenti berdasarkan prediksi model. Fokuskan perhatian pada karyawan-karyawan ini.\n",
    "\n",
    "- Kustomisasi Pendekatan : Kenali bahwa setiap karyawan unik. Sesuaikan pendekatan Anda dalam merawat karyawan yang berisiko tinggi untuk berhenti. Cobalah untuk memahami alasan individu di balik keinginan mereka untuk berhenti dan coba temukan solusi yang sesuai.\n",
    "\n",
    "- Implementasikan Program Retensi : Berdasarkan analisis model, implementasikan program-program retensi yang dapat membantu mempertahankan karyawan. Ini bisa termasuk peningkatan lingkungan kerja, program pelatihan, atau pengembangan jenjang karier.\n",
    "\n",
    "- Evaluasi Kebijakan dan Budaya Perusahaan : Tinjau kebijakan dan budaya perusahaan Anda. Pastikan bahwa perusahaan menciptakan lingkungan yang mendukung karyawan dan memotivasi mereka untuk tetap bekerja.\n",
    "\n",
    "- Penggunaan Data untuk Pengambilan Keputusan : Terus gunakan data untuk pengambilan keputusan yang lebih baik. Model ini dapat memberikan wawasan berharga yang dapat membantu Anda mengidentifikasi masalah dan peluang dalam organisasi.\n",
    "\n",
    "- Evaluasi Model Secara Berkala : Terus evaluasi kinerja model Anda. Pastikan bahwa model tetap akurat dan mempertimbangkan penyesuaian jika diperlukan.\n",
    "\n",
    "- Pertahankan Karyawan Berharga : Identifikasi karyawan yang memiliki dampak positif besar pada perusahaan dan lakukan upaya untuk menjaga mereka tetap berada di perusahaan.\n",
    "\n",
    "- Feedback dari Karyawan : Berikan kesempatan bagi karyawan untuk memberikan masukan dan umpan balik tentang lingkungan kerja, kebijakan perusahaan, dan alasan mereka berhenti. Ini dapat memberikan wawasan yang berharga.\n",
    "\n",
    "- Komunikasi Terbuka : Fasilitasi komunikasi terbuka antara manajemen dan karyawan. Berikan kesempatan untuk karyawan untuk menyampaikan kekhawatiran mereka.\n",
    "\n",
    "- Perhatian Terhadap Keseimbangan Kerja-Hidup : Pastikan bahwa karyawan memiliki keseimbangan kerja-hidup yang sehat. Ini dapat membantu meningkatkan kepuasan dan retensi karyawan.\n",
    "\n",
    "- Dengan menggunakan hasil model ini sebagai alat bantu, perusahaan dapat mengambil tindakan yang lebih cerdas dalam manajemen sumber daya manusia dan meningkatkan retensi karyawan."
   ]
  }
 ],
 "metadata": {
  "kernelspec": {
   "display_name": "Python 3",
   "language": "python",
   "name": "python3"
  },
  "language_info": {
   "codemirror_mode": {
    "name": "ipython",
    "version": 3
   },
   "file_extension": ".py",
   "mimetype": "text/x-python",
   "name": "python",
   "nbconvert_exporter": "python",
   "pygments_lexer": "ipython3",
   "version": "3.11.4"
  }
 },
 "nbformat": 4,
 "nbformat_minor": 2
}
